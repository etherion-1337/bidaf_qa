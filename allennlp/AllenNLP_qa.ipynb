{
 "cells": [
  {
   "cell_type": "markdown",
   "metadata": {},
   "source": [
    "# AllenNLP Library Demo"
   ]
  },
  {
   "cell_type": "code",
   "execution_count": 1,
   "metadata": {},
   "outputs": [],
   "source": [
    "from allennlp.predictors.predictor import Predictor"
   ]
  },
  {
   "cell_type": "code",
   "execution_count": 2,
   "metadata": {},
   "outputs": [
    {
     "name": "stderr",
     "output_type": "stream",
     "text": [
      "/opt/anaconda3/envs/mfa_text/lib/python3.6/site-packages/torch/nn/modules/rnn.py:51: UserWarning: dropout option adds dropout after all but last recurrent layer, so non-zero dropout expects num_layers greater than 1, but got dropout=0.2 and num_layers=1\n",
      "  \"num_layers={}\".format(dropout, num_layers))\n",
      "/opt/anaconda3/envs/mfa_text/lib/python3.6/site-packages/allennlp/data/token_indexers/token_characters_indexer.py:56: UserWarning: You are using the default value (0) of `min_padding_length`, which can cause some subtle bugs (more info see https://github.com/allenai/allennlp/issues/1954). Strongly recommend to set a value, usually the maximum size of the convolutional layer size when using CnnEncoder.\n",
      "  UserWarning)\n"
     ]
    }
   ],
   "source": [
    "bidaf_elmo_path = \"/Users/xaviertang/Documents/AIAP/MFA_xavier/question_answering/allennlp/bidaf-elmo-model-2018.11.30-charpad\"\n",
    "predictor_bidaf_elmo = Predictor.from_path(bidaf_elmo_path)"
   ]
  },
  {
   "cell_type": "code",
   "execution_count": 3,
   "metadata": {},
   "outputs": [],
   "source": [
    "bidaf_path = \"/Users/xaviertang/Documents/AIAP/MFA_xavier/question_answering/allennlp/bidaf-model-2020.02.10-charpad\"\n",
    "predictor_bidaf = Predictor.from_path(bidaf_path)"
   ]
  },
  {
   "cell_type": "code",
   "execution_count": null,
   "metadata": {},
   "outputs": [],
   "source": []
  },
  {
   "cell_type": "code",
   "execution_count": 4,
   "metadata": {},
   "outputs": [],
   "source": [
    "pred_dict = predictor_bidaf.predict(\n",
    "  passage=\"The Matrix is a 1999 science fiction action film written and directed by The Wachowskis, starring Keanu Reeves, Laurence Fishburne, Carrie-Anne Moss, Hugo Weaving, and Joe Pantoliano.\",\n",
    "  question=\"Who stars in The Matrix?\"\n",
    ")"
   ]
  },
  {
   "cell_type": "code",
   "execution_count": 5,
   "metadata": {},
   "outputs": [
    {
     "data": {
      "text/plain": [
       "{'passage_question_attention': [[0.23324942588806152,\n",
       "   0.1302056908607483,\n",
       "   0.057383883744478226,\n",
       "   0.4639680087566376,\n",
       "   0.07980172336101532,\n",
       "   0.035391271114349365],\n",
       "  [0.022366056218743324,\n",
       "   0.04148132726550102,\n",
       "   0.004440481308847666,\n",
       "   0.010942183434963226,\n",
       "   0.9152997136116028,\n",
       "   0.0054702130146324635],\n",
       "  [0.4210350513458252,\n",
       "   0.14624372124671936,\n",
       "   0.1435588300228119,\n",
       "   0.04770353436470032,\n",
       "   0.06846387684345245,\n",
       "   0.17299500107765198],\n",
       "  [0.41911059617996216,\n",
       "   0.22678570449352264,\n",
       "   0.1360650360584259,\n",
       "   0.0994863212108612,\n",
       "   0.03831887245178223,\n",
       "   0.08023354411125183],\n",
       "  [0.35842838883399963,\n",
       "   0.2444796860218048,\n",
       "   0.14123567938804626,\n",
       "   0.05731036514043808,\n",
       "   0.04445306211709976,\n",
       "   0.15409283339977264],\n",
       "  [0.38292989134788513,\n",
       "   0.20868787169456482,\n",
       "   0.1844458132982254,\n",
       "   0.04652712494134903,\n",
       "   0.05981539562344551,\n",
       "   0.11759383231401443],\n",
       "  [0.2734203636646271,\n",
       "   0.4369221031665802,\n",
       "   0.12022329866886139,\n",
       "   0.050616465508937836,\n",
       "   0.04319246485829353,\n",
       "   0.07562532275915146],\n",
       "  [0.38028812408447266,\n",
       "   0.22147665917873383,\n",
       "   0.15149767696857452,\n",
       "   0.042308930307626724,\n",
       "   0.06067907437682152,\n",
       "   0.14374956488609314],\n",
       "  [0.20701518654823303,\n",
       "   0.6529343128204346,\n",
       "   0.053355563431978226,\n",
       "   0.030425919219851494,\n",
       "   0.016885729506611824,\n",
       "   0.039383236318826675],\n",
       "  [0.3757022023200989,\n",
       "   0.40540173649787903,\n",
       "   0.110016830265522,\n",
       "   0.03062237799167633,\n",
       "   0.01274037268012762,\n",
       "   0.06551645696163177],\n",
       "  [0.3762320280075073,\n",
       "   0.3089585304260254,\n",
       "   0.128811776638031,\n",
       "   0.03828493505716324,\n",
       "   0.04356471076607704,\n",
       "   0.10414792597293854],\n",
       "  [0.23995648324489594,\n",
       "   0.5173618793487549,\n",
       "   0.14735382795333862,\n",
       "   0.02119225636124611,\n",
       "   0.03074885532259941,\n",
       "   0.04338669776916504],\n",
       "  [0.5362123250961304,\n",
       "   0.22999200224876404,\n",
       "   0.13562171161174774,\n",
       "   0.039911769330501556,\n",
       "   0.014487444423139095,\n",
       "   0.04377486929297447],\n",
       "  [0.39066681265830994,\n",
       "   0.16397987306118011,\n",
       "   0.08167306333780289,\n",
       "   0.25455692410469055,\n",
       "   0.06439410895109177,\n",
       "   0.04472923278808594],\n",
       "  [0.5753822326660156,\n",
       "   0.17080940306186676,\n",
       "   0.097641721367836,\n",
       "   0.04874291643500328,\n",
       "   0.028262779116630554,\n",
       "   0.07916094362735748],\n",
       "  [0.46991047263145447,\n",
       "   0.2159355878829956,\n",
       "   0.13028647005558014,\n",
       "   0.028421614319086075,\n",
       "   0.02222082018852234,\n",
       "   0.13322500884532928],\n",
       "  [0.0858985036611557,\n",
       "   0.814933180809021,\n",
       "   0.05861116573214531,\n",
       "   0.012726872228085995,\n",
       "   0.013628129847347736,\n",
       "   0.014202205464243889],\n",
       "  [0.4681047797203064,\n",
       "   0.21825282275676727,\n",
       "   0.14365915954113007,\n",
       "   0.06745883077383041,\n",
       "   0.026218349114060402,\n",
       "   0.07630603760480881],\n",
       "  [0.5294859409332275,\n",
       "   0.32860496640205383,\n",
       "   0.057414889335632324,\n",
       "   0.030201518908143044,\n",
       "   0.024775944650173187,\n",
       "   0.029516782611608505],\n",
       "  [0.5042042136192322,\n",
       "   0.24159002304077148,\n",
       "   0.10108643025159836,\n",
       "   0.03312154486775398,\n",
       "   0.018227215856313705,\n",
       "   0.10177060216665268],\n",
       "  [0.4753439724445343,\n",
       "   0.34843209385871887,\n",
       "   0.05208757519721985,\n",
       "   0.047402121126651764,\n",
       "   0.03449331596493721,\n",
       "   0.04224083945155144],\n",
       "  [0.46683213114738464,\n",
       "   0.2324443757534027,\n",
       "   0.14504465460777283,\n",
       "   0.047674354165792465,\n",
       "   0.025548145174980164,\n",
       "   0.08245635777711868],\n",
       "  [0.4538628160953522,\n",
       "   0.26022276282310486,\n",
       "   0.11508560925722122,\n",
       "   0.03337583318352699,\n",
       "   0.020926175639033318,\n",
       "   0.11652686446905136],\n",
       "  [0.27688056230545044,\n",
       "   0.46768537163734436,\n",
       "   0.14218196272850037,\n",
       "   0.05877367779612541,\n",
       "   0.023659339174628258,\n",
       "   0.03081902302801609],\n",
       "  [0.33605659008026123,\n",
       "   0.32496321201324463,\n",
       "   0.12654469907283783,\n",
       "   0.0730729028582573,\n",
       "   0.053083647042512894,\n",
       "   0.08627892285585403],\n",
       "  [0.39453914761543274,\n",
       "   0.4009278416633606,\n",
       "   0.07611126452684402,\n",
       "   0.037632670253515244,\n",
       "   0.027029478922486305,\n",
       "   0.06375961005687714],\n",
       "  [0.42709052562713623,\n",
       "   0.3307698965072632,\n",
       "   0.09292302280664444,\n",
       "   0.03688531368970871,\n",
       "   0.04790492355823517,\n",
       "   0.06442631036043167],\n",
       "  [0.41639623045921326,\n",
       "   0.2900042235851288,\n",
       "   0.1174449622631073,\n",
       "   0.043122220784425735,\n",
       "   0.019891511648893356,\n",
       "   0.11314088106155396],\n",
       "  [0.34833818674087524,\n",
       "   0.44272369146347046,\n",
       "   0.08012451231479645,\n",
       "   0.06688598543405533,\n",
       "   0.013647159561514854,\n",
       "   0.048280466347932816],\n",
       "  [0.16671600937843323,\n",
       "   0.36938974261283875,\n",
       "   0.1716020703315735,\n",
       "   0.05465525761246681,\n",
       "   0.14880810678005219,\n",
       "   0.08882880210876465],\n",
       "  [0.4178599715232849,\n",
       "   0.20669913291931152,\n",
       "   0.1609138697385788,\n",
       "   0.042814988642930984,\n",
       "   0.021052567288279533,\n",
       "   0.1506595015525818],\n",
       "  [0.33912035822868347,\n",
       "   0.30233296751976013,\n",
       "   0.167546808719635,\n",
       "   0.038533058017492294,\n",
       "   0.04089030623435974,\n",
       "   0.11157657951116562],\n",
       "  [0.4235644042491913,\n",
       "   0.3913770318031311,\n",
       "   0.06196530908346176,\n",
       "   0.06772443652153015,\n",
       "   0.016300572082400322,\n",
       "   0.03906828165054321],\n",
       "  [0.4383354187011719,\n",
       "   0.25936266779899597,\n",
       "   0.12661395967006683,\n",
       "   0.04813047870993614,\n",
       "   0.03326721489429474,\n",
       "   0.09429025650024414],\n",
       "  [0.3788672685623169,\n",
       "   0.2149835228919983,\n",
       "   0.14707235991954803,\n",
       "   0.018567074090242386,\n",
       "   0.02309775911271572,\n",
       "   0.217412069439888]],\n",
       " 'span_start_logits': [-5.95388650894165,\n",
       "  -8.586533546447754,\n",
       "  -10.135903358459473,\n",
       "  -8.620035171508789,\n",
       "  -6.5387678146362305,\n",
       "  -6.875596523284912,\n",
       "  -7.628233909606934,\n",
       "  -6.9283294677734375,\n",
       "  -5.371940612792969,\n",
       "  -4.803886890411377,\n",
       "  -6.992993354797363,\n",
       "  -4.2784953117370605,\n",
       "  -2.5778346061706543,\n",
       "  2.717597246170044,\n",
       "  0.811729907989502,\n",
       "  -3.3269855976104736,\n",
       "  1.562727689743042,\n",
       "  6.507514953613281,\n",
       "  2.0787343978881836,\n",
       "  -4.025776386260986,\n",
       "  1.0333170890808105,\n",
       "  -2.778010368347168,\n",
       "  -5.054042339324951,\n",
       "  1.3354297876358032,\n",
       "  -5.0851287841796875,\n",
       "  -1.8765974044799805,\n",
       "  -2.060133695602417,\n",
       "  -5.716586589813232,\n",
       "  -0.47243165969848633,\n",
       "  -4.1644062995910645,\n",
       "  -5.429741382598877,\n",
       "  -4.058028221130371,\n",
       "  2.4887351989746094,\n",
       "  -3.064406394958496,\n",
       "  -4.278203964233398],\n",
       " 'span_start_probs': [3.604069661378162e-06,\n",
       "  2.5908894940585014e-07,\n",
       "  5.502581856831057e-08,\n",
       "  2.5055283003894147e-07,\n",
       "  2.008085630222922e-06,\n",
       "  1.4338349956233287e-06,\n",
       "  6.755121262358443e-07,\n",
       "  1.3601844557342702e-06,\n",
       "  6.4495416154386476e-06,\n",
       "  1.138234347308753e-05,\n",
       "  1.2750130053973407e-06,\n",
       "  1.9248900571255945e-05,\n",
       "  0.00010543710232013837,\n",
       "  0.021026670932769775,\n",
       "  0.003126531606540084,\n",
       "  4.984729821444489e-05,\n",
       "  0.006625476758927107,\n",
       "  0.9304881691932678,\n",
       "  0.011099820025265217,\n",
       "  2.4783392291283235e-05,\n",
       "  0.003902086755260825,\n",
       "  8.630946831544861e-05,\n",
       "  8.863190487318207e-06,\n",
       "  0.005278405733406544,\n",
       "  8.591909136157483e-06,\n",
       "  0.0002125872124452144,\n",
       "  0.00017694089910946786,\n",
       "  4.569312295643613e-06,\n",
       "  0.0008656823774799705,\n",
       "  2.15751861105673e-05,\n",
       "  6.087325346015859e-06,\n",
       "  2.3996823074412532e-05,\n",
       "  0.016725419089198112,\n",
       "  6.481540913227946e-05,\n",
       "  1.9254519429523498e-05],\n",
       " 'span_end_logits': [-9.945730209350586,\n",
       "  -7.6649169921875,\n",
       "  -12.830273628234863,\n",
       "  -13.464014053344727,\n",
       "  -9.577171325683594,\n",
       "  -11.889190673828125,\n",
       "  -10.71741008758545,\n",
       "  -11.042153358459473,\n",
       "  -10.707709312438965,\n",
       "  -10.720157623291016,\n",
       "  -13.018817901611328,\n",
       "  -12.035852432250977,\n",
       "  -12.693791389465332,\n",
       "  -10.399894714355469,\n",
       "  -3.2795767784118652,\n",
       "  -9.449387550354004,\n",
       "  -10.865654945373535,\n",
       "  -7.539451599121094,\n",
       "  -2.2614221572875977,\n",
       "  -6.141225814819336,\n",
       "  -6.705333232879639,\n",
       "  -1.8160228729248047,\n",
       "  -4.1802592277526855,\n",
       "  -7.493229866027832,\n",
       "  -8.971895217895508,\n",
       "  -6.12739896774292,\n",
       "  -1.2216414213180542,\n",
       "  -5.761321067810059,\n",
       "  -2.914591073989868,\n",
       "  -1.8542815446853638,\n",
       "  -5.33526611328125,\n",
       "  -7.927474498748779,\n",
       "  -3.9228227138519287,\n",
       "  2.7821102142333984,\n",
       "  0.44113415479660034],\n",
       " 'span_end_probs': [2.581339686003048e-06,\n",
       "  2.525746458559297e-05,\n",
       "  1.4424604444229772e-07,\n",
       "  7.653743949731506e-08,\n",
       "  3.731712922672159e-06,\n",
       "  3.6966727634535346e-07,\n",
       "  1.1931880408155848e-06,\n",
       "  8.623322855783044e-07,\n",
       "  1.204819113809208e-06,\n",
       "  1.1899140872628777e-06,\n",
       "  1.1945935796120466e-07,\n",
       "  3.1923948995427054e-07,\n",
       "  1.6533978453026066e-07,\n",
       "  1.6390946484534652e-06,\n",
       "  0.0020273039117455482,\n",
       "  4.240373073116643e-06,\n",
       "  1.0287905070072156e-06,\n",
       "  2.8633781766984612e-05,\n",
       "  0.005611742846667767,\n",
       "  0.0001159098683274351,\n",
       "  6.593734724447131e-05,\n",
       "  0.00876056682318449,\n",
       "  0.0008236778667196631,\n",
       "  2.998834679601714e-05,\n",
       "  6.835594831500202e-06,\n",
       "  0.00011752361751860008,\n",
       "  0.01587335392832756,\n",
       "  0.00016947709082160145,\n",
       "  0.0029203183948993683,\n",
       "  0.008431730791926384,\n",
       "  0.00025950412964448333,\n",
       "  1.9425056962063536e-05,\n",
       "  0.0010655173100531101,\n",
       "  0.8699133992195129,\n",
       "  0.08371496200561523],\n",
       " 'best_span': [17, 33],\n",
       " 'best_span_str': 'Keanu Reeves, Laurence Fishburne, Carrie-Anne Moss, Hugo Weaving, and Joe Pantoliano',\n",
       " 'question_tokens': ['Who', 'stars', 'in', 'The', 'Matrix', '?'],\n",
       " 'passage_tokens': ['The',\n",
       "  'Matrix',\n",
       "  'is',\n",
       "  'a',\n",
       "  '1999',\n",
       "  'science',\n",
       "  'fiction',\n",
       "  'action',\n",
       "  'film',\n",
       "  'written',\n",
       "  'and',\n",
       "  'directed',\n",
       "  'by',\n",
       "  'The',\n",
       "  'Wachowskis',\n",
       "  ',',\n",
       "  'starring',\n",
       "  'Keanu',\n",
       "  'Reeves',\n",
       "  ',',\n",
       "  'Laurence',\n",
       "  'Fishburne',\n",
       "  ',',\n",
       "  'Carrie',\n",
       "  '-',\n",
       "  'Anne',\n",
       "  'Moss',\n",
       "  ',',\n",
       "  'Hugo',\n",
       "  'Weaving',\n",
       "  ',',\n",
       "  'and',\n",
       "  'Joe',\n",
       "  'Pantoliano',\n",
       "  '.']}"
      ]
     },
     "execution_count": 5,
     "metadata": {},
     "output_type": "execute_result"
    }
   ],
   "source": [
    "pred_dict"
   ]
  },
  {
   "cell_type": "code",
   "execution_count": 6,
   "metadata": {},
   "outputs": [],
   "source": [
    "start, end = pred_dict['best_span']"
   ]
  },
  {
   "cell_type": "code",
   "execution_count": 7,
   "metadata": {},
   "outputs": [
    {
     "data": {
      "text/plain": [
       "17"
      ]
     },
     "execution_count": 7,
     "metadata": {},
     "output_type": "execute_result"
    }
   ],
   "source": [
    "start"
   ]
  },
  {
   "cell_type": "code",
   "execution_count": 12,
   "metadata": {},
   "outputs": [
    {
     "data": {
      "text/plain": [
       "[[0.4681047797203064,\n",
       "  0.21825282275676727,\n",
       "  0.14365915954113007,\n",
       "  0.06745883077383041,\n",
       "  0.026218349114060402,\n",
       "  0.07630603760480881],\n",
       " [0.5294859409332275,\n",
       "  0.32860496640205383,\n",
       "  0.057414889335632324,\n",
       "  0.030201518908143044,\n",
       "  0.024775944650173187,\n",
       "  0.029516782611608505],\n",
       " [0.5042042136192322,\n",
       "  0.24159002304077148,\n",
       "  0.10108643025159836,\n",
       "  0.03312154486775398,\n",
       "  0.018227215856313705,\n",
       "  0.10177060216665268],\n",
       " [0.4753439724445343,\n",
       "  0.34843209385871887,\n",
       "  0.05208757519721985,\n",
       "  0.047402121126651764,\n",
       "  0.03449331596493721,\n",
       "  0.04224083945155144],\n",
       " [0.46683213114738464,\n",
       "  0.2324443757534027,\n",
       "  0.14504465460777283,\n",
       "  0.047674354165792465,\n",
       "  0.025548145174980164,\n",
       "  0.08245635777711868],\n",
       " [0.4538628160953522,\n",
       "  0.26022276282310486,\n",
       "  0.11508560925722122,\n",
       "  0.03337583318352699,\n",
       "  0.020926175639033318,\n",
       "  0.11652686446905136],\n",
       " [0.27688056230545044,\n",
       "  0.46768537163734436,\n",
       "  0.14218196272850037,\n",
       "  0.05877367779612541,\n",
       "  0.023659339174628258,\n",
       "  0.03081902302801609],\n",
       " [0.33605659008026123,\n",
       "  0.32496321201324463,\n",
       "  0.12654469907283783,\n",
       "  0.0730729028582573,\n",
       "  0.053083647042512894,\n",
       "  0.08627892285585403],\n",
       " [0.39453914761543274,\n",
       "  0.4009278416633606,\n",
       "  0.07611126452684402,\n",
       "  0.037632670253515244,\n",
       "  0.027029478922486305,\n",
       "  0.06375961005687714],\n",
       " [0.42709052562713623,\n",
       "  0.3307698965072632,\n",
       "  0.09292302280664444,\n",
       "  0.03688531368970871,\n",
       "  0.04790492355823517,\n",
       "  0.06442631036043167],\n",
       " [0.41639623045921326,\n",
       "  0.2900042235851288,\n",
       "  0.1174449622631073,\n",
       "  0.043122220784425735,\n",
       "  0.019891511648893356,\n",
       "  0.11314088106155396],\n",
       " [0.34833818674087524,\n",
       "  0.44272369146347046,\n",
       "  0.08012451231479645,\n",
       "  0.06688598543405533,\n",
       "  0.013647159561514854,\n",
       "  0.048280466347932816],\n",
       " [0.16671600937843323,\n",
       "  0.36938974261283875,\n",
       "  0.1716020703315735,\n",
       "  0.05465525761246681,\n",
       "  0.14880810678005219,\n",
       "  0.08882880210876465],\n",
       " [0.4178599715232849,\n",
       "  0.20669913291931152,\n",
       "  0.1609138697385788,\n",
       "  0.042814988642930984,\n",
       "  0.021052567288279533,\n",
       "  0.1506595015525818],\n",
       " [0.33912035822868347,\n",
       "  0.30233296751976013,\n",
       "  0.167546808719635,\n",
       "  0.038533058017492294,\n",
       "  0.04089030623435974,\n",
       "  0.11157657951116562],\n",
       " [0.4235644042491913,\n",
       "  0.3913770318031311,\n",
       "  0.06196530908346176,\n",
       "  0.06772443652153015,\n",
       "  0.016300572082400322,\n",
       "  0.03906828165054321],\n",
       " [0.4383354187011719,\n",
       "  0.25936266779899597,\n",
       "  0.12661395967006683,\n",
       "  0.04813047870993614,\n",
       "  0.03326721489429474,\n",
       "  0.09429025650024414]]"
      ]
     },
     "execution_count": 12,
     "metadata": {},
     "output_type": "execute_result"
    }
   ],
   "source": [
    "pred_dict[\"passage_question_attention\"][start:end+1]"
   ]
  },
  {
   "cell_type": "code",
   "execution_count": 13,
   "metadata": {},
   "outputs": [
    {
     "data": {
      "text/plain": [
       "['Keanu',\n",
       " 'Reeves',\n",
       " ',',\n",
       " 'Laurence',\n",
       " 'Fishburne',\n",
       " ',',\n",
       " 'Carrie',\n",
       " '-',\n",
       " 'Anne',\n",
       " 'Moss',\n",
       " ',',\n",
       " 'Hugo',\n",
       " 'Weaving',\n",
       " ',',\n",
       " 'and',\n",
       " 'Joe',\n",
       " 'Pantoliano']"
      ]
     },
     "execution_count": 13,
     "metadata": {},
     "output_type": "execute_result"
    }
   ],
   "source": [
    "pred_dict[\"passage_tokens\"][start:end+1]"
   ]
  },
  {
   "cell_type": "code",
   "execution_count": null,
   "metadata": {},
   "outputs": [],
   "source": []
  },
  {
   "cell_type": "code",
   "execution_count": null,
   "metadata": {},
   "outputs": [],
   "source": []
  },
  {
   "cell_type": "code",
   "execution_count": null,
   "metadata": {},
   "outputs": [],
   "source": []
  },
  {
   "cell_type": "code",
   "execution_count": 8,
   "metadata": {},
   "outputs": [
    {
     "data": {
      "text/plain": [
       "'Keanu Reeves, Laurence Fishburne, Carrie-Anne Moss, Hugo Weaving, and Joe Pantoliano'"
      ]
     },
     "execution_count": 8,
     "metadata": {},
     "output_type": "execute_result"
    }
   ],
   "source": [
    "pred_dict[\"best_span_str\"]"
   ]
  },
  {
   "cell_type": "code",
   "execution_count": 9,
   "metadata": {},
   "outputs": [],
   "source": [
    "pakistan_cop_path = \"/Users/xaviertang/Documents/AIAP/MFA_xavier/to_text/cop25-statements-txt/PAKISTAN_cop25cmp15cma2_HLS_EN.txt\""
   ]
  },
  {
   "cell_type": "code",
   "execution_count": 10,
   "metadata": {},
   "outputs": [],
   "source": [
    "with open(pakistan_cop_path, 'r') as file:\n",
    "    data = file.read().replace('\\n', ' ')"
   ]
  },
  {
   "cell_type": "code",
   "execution_count": 11,
   "metadata": {},
   "outputs": [
    {
     "data": {
      "text/plain": [
       "'  Address by H.E. Malik Amin Aslam Khan Federal Minister - Climate Change / Advisor to Prime Minister  25th Session of Conference of Parties (COP-25) to the United Nations               Framework Convention on Climate Change (UNFCCC)                   (11-12 December 2019 Madrid, Spain) Your Excellency, Ms. Carolina Schmidt, President of COP 25 Distinguished Heads of Delegations, Madam Executive Secretary, Excellencies, Ladies and Gentlemen. Madam President, Let me take this opportunity to first congratulate the Government and people of Chile for assuming the presidency of COP-25 and to convey our appreciation to the Government of Spain for their support in hosting the conference in the beautiful city of Madrid. I would also like to acknowledge the efforts put in by the government of Poland in their capacity as Presidency of COP 24 in carrying forward the climate agenda.                                                                       1   Madam President Let us not be under any illusion. The world, as shaped by us, is now on a warpath with nature and we, the political shapers of this situation, are collectively leading the charge brigade. While nature may be resilient, it is no longer silent and an era of consequences is already upon us. The virulent cyclones, rising heat waves, freak floods, melting glaciers and rising sea levels are all vivid and living indicators of not only our failing battle but also of nature’s forceful reply. Madam President, this battle against nature is not a battle that can be won nor a battle that should be won. Instead, a collective retreat is needed to try and take nature on board, to allow it space to bounce back and to tread on a different path of ecologically balanced growth - before we hit the thresholds of climate irreversibility. The politics of climate change, played out in these hallowed halls, unfortunately remains totally out of sync with the scientific evidence and the physical reality of climate change. If this continues, all of us may be soon destined to the dustbins of history – a history of self inflicted destruction.                                                                      2   Our youth is out on the streets and sees the urgency and emergency, our scientists not only see it but have already predicted the abyss facing us and our economies are already draining under the burden of forced adaptation costs. So Madam President, let us negotiate to act and not to further delay action. Within the comity of nations, Pakistan solidly supports the Paris Consensus and at same time it faces a climate challenge which is not only unique but equally inescapable. We contribute less than 1% of the global greenhouse gas emissions but yet, every year, we keep on climbing up the ladder of climate vulnerability. The long term German Watch index, places Pakistan at 5th position in terms of climate vulnerability and 3rd in terms of the economic costs borne over this period – estimated at $3.2 bn. Within this ranking, we also join a small and unique group of countries which is, consistently and simultaneously, appearing on not only the yearly but also the long term climate vulnerability index. This, Madam President, is not an enviable position to be in, and certainly not a position of our own making nor of our own choosing,                                                                     3   as it places Pakistan squarely on the front lines of an unfolding disaster. Climate change, as viewed from Pakistan’s lens, may well be the biggest human rights violation of history where the lives and livelihoods of billions of people has been put at risk – all due to the unbridled pollution and uncontrolled excesses of a few. Pakistan does not have an option to escape climate change and its impacts. The forced climate adaptation needs remain at between $7 to $14 billion per annum, thus making climate compatible development an inevitable direction to take and building resilience of our vulnerable communities as well as our infrastructure, an undeniable option While facing this daunting challenge, Pakistan remains equally committed to raising its ambition for climate action and lead the response in shaping a new future. A future at balance and harmony with nature and a future which can further the dreams of our youth and avoid hopelessly crushing them at the altar of an impending climate catastrophe, Madam President - this future is possible.                                                                       4   We, in Pakistan, have chosen to position ourselves to tread on a sustainable development pathway, in line with the spirit of the Paris Agreement. A paradigm shift in our business as usual is at play which involves enormous political and economic cost. Led by our Prime Minister Imran Khan’s green vision and backed with concerted action, Pakistan has been making a shift towards a “clean and green” Pakistan. We shifted away from having the highest deforestation rate in Asia, by successfully planting a billion trees in KhybetPakhtunkhwa province in 4 years and increasing the provincial forest cover by 6.3%. We have now raised the bar by initiating the 10 billion tree tsunami - across the whole country. This project is helping us to generate thousands of green jobs, revive the forest biodiversity, engage the indigenous communities and energize our youth to become custodians of a green future for our nation. Secondly, we have decided to shift away from polluting transport by framing our first electric vehicle policy which is now targeting a 30% shift to electric by 2030. Earlier this month, the city of Karachi in Pakistan launched the world’s first “zero emissions” metro line – which incidentally is also the first transport project to be financed under the Green Climate fund.                                                                      5   Thirdly, a “Clean-Green cities index” has been initiated in 20 cities to trigger a shift towards improved waste management and sanitation. Concurrently, Pakistan has decided to get out of its plastic addiction by banning the single use plastic bags – which is now being enforced across the country. Fourthly, our “Recharge Pakistan” initiative is focused on shifting our direction by effectively managing and prudently utilizing our water resources – turning catastrophic floods into an opportunity for recharging aquifers and naturally restoring ecosystems. This is an innovative initiative and an eco-system-based adaptation to climate change. Concurrently, to fulfil our growing energy needs, we are making a purposeful transition towards renewable energy by harnessing the untapped potential of wind, solar and hydro in Pakistan and are targeting a huge 60% shift towards clean “carbon free” energy by 2030. In compliance with its responsibilities, Pakistan’s second national communications was recently submitted, the national committee on carbon markets has been set up to explore market based instruments and our NDC is being updated into an “enhanced                                                                     6   NDC” to incorporate all the country-financed activities practically underway in Pakistan and reflected in our 5 point environmental agenda. Also, Pakistan is now launching the “Eco-System Restoration Fund” as an independent, transparent and comprehensive financial mechanism which shall facilitate Pakistan’s transition towards climate compatible development through targeted initiatives on afforestation, biodiversity conservation and ecological restoration. All using nature based solutions to address nature based challenges. This platform will allow partners to share with Pakistan the dream of a better, low carbon and ecologically balanced future. Finally, Madam President While countries like Pakistan are willing to think out of the box as well as act out of the box, we urge that raising ambition is essentially seen in the context of specific national circumstances and development imperatives of developing countries as well as the unfulfilled commitments with regard to mitigation, technology transfer and provision of climate finance, all of which need to be met urgently and to be scaled up significantly.                                                                    7   Pakistan remains committed and ready to play its part in what has to be a coordinated effort based on a relationship of trust and a partnership with nature. We have to ACT NOW because Madam President our collective INACTION will neither be forgiven nor forgotten. I thank you.                                                                 8 '"
      ]
     },
     "execution_count": 11,
     "metadata": {},
     "output_type": "execute_result"
    }
   ],
   "source": [
    "data"
   ]
  },
  {
   "cell_type": "code",
   "execution_count": 12,
   "metadata": {},
   "outputs": [],
   "source": [
    "query_1 = \"what has been initiated to imporve waste management ?\"\n",
    "query_2 = \"what is Pakistan's stance on global warming ?\""
   ]
  },
  {
   "cell_type": "code",
   "execution_count": 13,
   "metadata": {},
   "outputs": [
    {
     "data": {
      "text/plain": [
       "'Pakistan does not have an option to escape climate change and its impacts'"
      ]
     },
     "execution_count": 13,
     "metadata": {},
     "output_type": "execute_result"
    }
   ],
   "source": [
    "pred_dict = predictor_bidaf.predict(\n",
    "  passage = data,\n",
    "  question= query_2\n",
    ")\n",
    "\n",
    "pred_dict[\"best_span_str\"]"
   ]
  },
  {
   "cell_type": "code",
   "execution_count": null,
   "metadata": {},
   "outputs": [],
   "source": []
  },
  {
   "cell_type": "code",
   "execution_count": null,
   "metadata": {},
   "outputs": [],
   "source": []
  },
  {
   "cell_type": "code",
   "execution_count": null,
   "metadata": {},
   "outputs": [],
   "source": []
  },
  {
   "cell_type": "code",
   "execution_count": null,
   "metadata": {},
   "outputs": [],
   "source": []
  },
  {
   "cell_type": "code",
   "execution_count": null,
   "metadata": {},
   "outputs": [],
   "source": []
  },
  {
   "cell_type": "markdown",
   "metadata": {},
   "source": [
    "# Formatting Excel to SQuAD v1.1"
   ]
  },
  {
   "cell_type": "code",
   "execution_count": 1,
   "metadata": {},
   "outputs": [],
   "source": [
    "import os\n",
    "import pandas as pd\n",
    "import json\n",
    "import sys\n",
    "import shortuuid\n",
    "import numpy as np"
   ]
  },
  {
   "cell_type": "code",
   "execution_count": 2,
   "metadata": {},
   "outputs": [],
   "source": [
    "excel_path = \"/Users/xaviertang/Documents/AIAP/MFA_xavier/question_answering/allennlp/squad_small.xlsx\""
   ]
  },
  {
   "cell_type": "code",
   "execution_count": 3,
   "metadata": {},
   "outputs": [
    {
     "data": {
      "text/html": [
       "<div>\n",
       "<style scoped>\n",
       "    .dataframe tbody tr th:only-of-type {\n",
       "        vertical-align: middle;\n",
       "    }\n",
       "\n",
       "    .dataframe tbody tr th {\n",
       "        vertical-align: top;\n",
       "    }\n",
       "\n",
       "    .dataframe thead th {\n",
       "        text-align: right;\n",
       "    }\n",
       "</style>\n",
       "<table border=\"1\" class=\"dataframe\">\n",
       "  <thead>\n",
       "    <tr style=\"text-align: right;\">\n",
       "      <th></th>\n",
       "      <th>title</th>\n",
       "      <th>context</th>\n",
       "      <th>text</th>\n",
       "      <th>question</th>\n",
       "    </tr>\n",
       "  </thead>\n",
       "  <tbody>\n",
       "    <tr>\n",
       "      <th>0</th>\n",
       "      <td>Super_Bowl_50</td>\n",
       "      <td>Super Bowl 50 was an American football game to...</td>\n",
       "      <td>Denver Broncos</td>\n",
       "      <td>Which NFL team represented the AFC at Super Bo...</td>\n",
       "    </tr>\n",
       "    <tr>\n",
       "      <th>1</th>\n",
       "      <td>NaN</td>\n",
       "      <td>NaN</td>\n",
       "      <td>Carolina Panthers</td>\n",
       "      <td>Which NFL team represented the NFC at Super Bo...</td>\n",
       "    </tr>\n",
       "    <tr>\n",
       "      <th>2</th>\n",
       "      <td>NaN</td>\n",
       "      <td>The Panthers finished the regular season with ...</td>\n",
       "      <td>Cam Newton</td>\n",
       "      <td>Which Carolina Panthers player was named Most ...</td>\n",
       "    </tr>\n",
       "    <tr>\n",
       "      <th>3</th>\n",
       "      <td>NaN</td>\n",
       "      <td>NaN</td>\n",
       "      <td>eight</td>\n",
       "      <td>How many appearances have the Denver Broncos m...</td>\n",
       "    </tr>\n",
       "  </tbody>\n",
       "</table>\n",
       "</div>"
      ],
      "text/plain": [
       "           title                                            context  \\\n",
       "0  Super_Bowl_50  Super Bowl 50 was an American football game to...   \n",
       "1            NaN                                                NaN   \n",
       "2            NaN  The Panthers finished the regular season with ...   \n",
       "3            NaN                                                NaN   \n",
       "\n",
       "                text                                           question  \n",
       "0     Denver Broncos  Which NFL team represented the AFC at Super Bo...  \n",
       "1  Carolina Panthers  Which NFL team represented the NFC at Super Bo...  \n",
       "2         Cam Newton  Which Carolina Panthers player was named Most ...  \n",
       "3              eight  How many appearances have the Denver Broncos m...  "
      ]
     },
     "execution_count": 3,
     "metadata": {},
     "output_type": "execute_result"
    }
   ],
   "source": [
    "df = pd.read_excel(open(excel_path,'rb'), header = [1])\n",
    "df"
   ]
  },
  {
   "cell_type": "code",
   "execution_count": 5,
   "metadata": {},
   "outputs": [
    {
     "data": {
      "text/html": [
       "<div>\n",
       "<style scoped>\n",
       "    .dataframe tbody tr th:only-of-type {\n",
       "        vertical-align: middle;\n",
       "    }\n",
       "\n",
       "    .dataframe tbody tr th {\n",
       "        vertical-align: top;\n",
       "    }\n",
       "\n",
       "    .dataframe thead th {\n",
       "        text-align: right;\n",
       "    }\n",
       "</style>\n",
       "<table border=\"1\" class=\"dataframe\">\n",
       "  <thead>\n",
       "    <tr style=\"text-align: right;\">\n",
       "      <th></th>\n",
       "      <th>title</th>\n",
       "      <th>context</th>\n",
       "      <th>text</th>\n",
       "      <th>question</th>\n",
       "    </tr>\n",
       "  </thead>\n",
       "  <tbody>\n",
       "    <tr>\n",
       "      <th>0</th>\n",
       "      <td>Super_Bowl_50</td>\n",
       "      <td>Super Bowl 50 was an American football game to...</td>\n",
       "      <td>Denver Broncos</td>\n",
       "      <td>Which NFL team represented the AFC at Super Bo...</td>\n",
       "    </tr>\n",
       "    <tr>\n",
       "      <th>1</th>\n",
       "      <td>Super_Bowl_50</td>\n",
       "      <td>Super Bowl 50 was an American football game to...</td>\n",
       "      <td>Carolina Panthers</td>\n",
       "      <td>Which NFL team represented the NFC at Super Bo...</td>\n",
       "    </tr>\n",
       "    <tr>\n",
       "      <th>2</th>\n",
       "      <td>Super_Bowl_50</td>\n",
       "      <td>The Panthers finished the regular season with ...</td>\n",
       "      <td>Cam Newton</td>\n",
       "      <td>Which Carolina Panthers player was named Most ...</td>\n",
       "    </tr>\n",
       "    <tr>\n",
       "      <th>3</th>\n",
       "      <td>Super_Bowl_50</td>\n",
       "      <td>The Panthers finished the regular season with ...</td>\n",
       "      <td>eight</td>\n",
       "      <td>How many appearances have the Denver Broncos m...</td>\n",
       "    </tr>\n",
       "  </tbody>\n",
       "</table>\n",
       "</div>"
      ],
      "text/plain": [
       "           title                                            context  \\\n",
       "0  Super_Bowl_50  Super Bowl 50 was an American football game to...   \n",
       "1  Super_Bowl_50  Super Bowl 50 was an American football game to...   \n",
       "2  Super_Bowl_50  The Panthers finished the regular season with ...   \n",
       "3  Super_Bowl_50  The Panthers finished the regular season with ...   \n",
       "\n",
       "                text                                           question  \n",
       "0     Denver Broncos  Which NFL team represented the AFC at Super Bo...  \n",
       "1  Carolina Panthers  Which NFL team represented the NFC at Super Bo...  \n",
       "2         Cam Newton  Which Carolina Panthers player was named Most ...  \n",
       "3              eight  How many appearances have the Denver Broncos m...  "
      ]
     },
     "execution_count": 5,
     "metadata": {},
     "output_type": "execute_result"
    }
   ],
   "source": [
    "# fill merged cells.\n",
    "df = df.fillna(method='ffill')\n",
    "df[\"text\"]= df[\"text\"].astype(str)\n",
    "df"
   ]
  },
  {
   "cell_type": "code",
   "execution_count": 6,
   "metadata": {},
   "outputs": [],
   "source": [
    "# answer_start index\n",
    "def find_first_ans(context,ans):\n",
    "    return(str(context).find(str(ans)))\n",
    "\n",
    "df['answer_start'] = df[['context','text']].apply(lambda x: find_first_ans(*x), axis=1)\n",
    "\n",
    "# Assigning ids\n",
    "df['id'] = df['question'].apply(lambda x: shortuuid.uuid(name=x))\n"
   ]
  },
  {
   "cell_type": "code",
   "execution_count": 7,
   "metadata": {},
   "outputs": [
    {
     "data": {
      "text/html": [
       "<div>\n",
       "<style scoped>\n",
       "    .dataframe tbody tr th:only-of-type {\n",
       "        vertical-align: middle;\n",
       "    }\n",
       "\n",
       "    .dataframe tbody tr th {\n",
       "        vertical-align: top;\n",
       "    }\n",
       "\n",
       "    .dataframe thead th {\n",
       "        text-align: right;\n",
       "    }\n",
       "</style>\n",
       "<table border=\"1\" class=\"dataframe\">\n",
       "  <thead>\n",
       "    <tr style=\"text-align: right;\">\n",
       "      <th></th>\n",
       "      <th>title</th>\n",
       "      <th>context</th>\n",
       "      <th>text</th>\n",
       "      <th>question</th>\n",
       "      <th>answer_start</th>\n",
       "      <th>id</th>\n",
       "    </tr>\n",
       "  </thead>\n",
       "  <tbody>\n",
       "    <tr>\n",
       "      <th>0</th>\n",
       "      <td>Super_Bowl_50</td>\n",
       "      <td>Super Bowl 50 was an American football game to...</td>\n",
       "      <td>Denver Broncos</td>\n",
       "      <td>Which NFL team represented the AFC at Super Bo...</td>\n",
       "      <td>177</td>\n",
       "      <td>D28v2LJqwijcrbpwpyDCBu</td>\n",
       "    </tr>\n",
       "    <tr>\n",
       "      <th>1</th>\n",
       "      <td>Super_Bowl_50</td>\n",
       "      <td>Super Bowl 50 was an American football game to...</td>\n",
       "      <td>Carolina Panthers</td>\n",
       "      <td>Which NFL team represented the NFC at Super Bo...</td>\n",
       "      <td>249</td>\n",
       "      <td>HNyYgnaLeE6MaDSZbJ9U5f</td>\n",
       "    </tr>\n",
       "    <tr>\n",
       "      <th>2</th>\n",
       "      <td>Super_Bowl_50</td>\n",
       "      <td>The Panthers finished the regular season with ...</td>\n",
       "      <td>Cam Newton</td>\n",
       "      <td>Which Carolina Panthers player was named Most ...</td>\n",
       "      <td>77</td>\n",
       "      <td>cnEEBCsYrmXwprpaLvrHTD</td>\n",
       "    </tr>\n",
       "    <tr>\n",
       "      <th>3</th>\n",
       "      <td>Super_Bowl_50</td>\n",
       "      <td>The Panthers finished the regular season with ...</td>\n",
       "      <td>eight</td>\n",
       "      <td>How many appearances have the Denver Broncos m...</td>\n",
       "      <td>601</td>\n",
       "      <td>kqdqJm2LZowHAqYKErYRGF</td>\n",
       "    </tr>\n",
       "  </tbody>\n",
       "</table>\n",
       "</div>"
      ],
      "text/plain": [
       "           title                                            context  \\\n",
       "0  Super_Bowl_50  Super Bowl 50 was an American football game to...   \n",
       "1  Super_Bowl_50  Super Bowl 50 was an American football game to...   \n",
       "2  Super_Bowl_50  The Panthers finished the regular season with ...   \n",
       "3  Super_Bowl_50  The Panthers finished the regular season with ...   \n",
       "\n",
       "                text                                           question  \\\n",
       "0     Denver Broncos  Which NFL team represented the AFC at Super Bo...   \n",
       "1  Carolina Panthers  Which NFL team represented the NFC at Super Bo...   \n",
       "2         Cam Newton  Which Carolina Panthers player was named Most ...   \n",
       "3              eight  How many appearances have the Denver Broncos m...   \n",
       "\n",
       "   answer_start                      id  \n",
       "0           177  D28v2LJqwijcrbpwpyDCBu  \n",
       "1           249  HNyYgnaLeE6MaDSZbJ9U5f  \n",
       "2            77  cnEEBCsYrmXwprpaLvrHTD  \n",
       "3           601  kqdqJm2LZowHAqYKErYRGF  "
      ]
     },
     "execution_count": 7,
     "metadata": {},
     "output_type": "execute_result"
    }
   ],
   "source": [
    "df"
   ]
  },
  {
   "cell_type": "code",
   "execution_count": 7,
   "metadata": {},
   "outputs": [
    {
     "data": {
      "text/plain": [
       "<pandas.core.groupby.generic.DataFrameGroupBy object at 0x105634588>"
      ]
     },
     "execution_count": 7,
     "metadata": {},
     "output_type": "execute_result"
    }
   ],
   "source": [
    "df.groupby(['title'])"
   ]
  },
  {
   "cell_type": "code",
   "execution_count": 8,
   "metadata": {},
   "outputs": [],
   "source": [
    "def convert_squad_dict(df):\n",
    "   \n",
    "    grouped1 = df.groupby(['title'])\n",
    "    dictList1 = []\n",
    "    for key1, value1 in grouped1:\n",
    "        anotherDict1 = {}\n",
    "        dictList2 = []\n",
    "        anotherDict2 = {}\n",
    "        title = key1\n",
    "        anotherDict1['title'] = title\n",
    "        grouped2 = df.loc[df['title'] == title].groupby(['context'])\n",
    "        \n",
    "        \n",
    "        for key2, value2 in grouped2:\n",
    "            dictList3 = []\n",
    "            anotherDict3 = {}\n",
    "            context = key2\n",
    "            anotherDict2['context'] = context\n",
    "            grouped3 = df.loc[(df['title'] == title) & (df['context'] == context)].groupby(['id'])\n",
    "            \n",
    "            for key3, value3 in grouped3:\n",
    "                n = grouped3.get_group(key3)\n",
    "                dictList4 = []\n",
    "                \n",
    "                for m in n.index: \n",
    "                    anotherDict4 = {}\n",
    "                    anotherDict4['answer_start'] = n.at[m, 'answer_start']\n",
    "                    anotherDict4['text'] = n.at[m, 'text']\n",
    "                    \n",
    "                    dictList4.append(anotherDict4.copy())\n",
    "                    \n",
    "                anotherDict3['answers'] = dictList4\n",
    "                curr_ques = value3[\"question\"].reset_index()\n",
    "                curr_id = value3[\"id\"].reset_index()\n",
    "                anotherDict3['question'] = curr_ques.iloc[0,1]\n",
    "                anotherDict3['id'] = curr_id.iloc[0,1]\n",
    "                dictList3.append(anotherDict3.copy())\n",
    "            \n",
    "                    \n",
    "            anotherDict2['qas'] = dictList3\n",
    "            dictList2.append(anotherDict2.copy())\n",
    "                   \n",
    "                    \n",
    "        anotherDict1['paragraphs'] = dictList2\n",
    "        dictList1.append(anotherDict1.copy())\n",
    "        \n",
    "    return dictList1\n",
    "\n",
    "list1 = convert_squad_dict(df)"
   ]
  },
  {
   "cell_type": "code",
   "execution_count": 9,
   "metadata": {},
   "outputs": [
    {
     "data": {
      "text/plain": [
       "[{'title': 'Super_Bowl_50',\n",
       "  'paragraphs': [{'context': 'Super Bowl 50 was an American football game to determine the champion of the National Football League (NFL) for the 2015 season. The American Football Conference (AFC) champion Denver Broncos defeated the National Football Conference (NFC) champion Carolina Panthers 24–10 to earn their third Super Bowl title. The game was played on February 7, 2016, at Levi\\'s Stadium in the San Francisco Bay Area at Santa Clara, California. As this was the 50th Super Bowl, the league emphasized the \\\\\"golden anniversary\\\\\" with various gold-themed initiatives, as well as temporarily suspending the tradition of naming each Super Bowl game with Roman numerals (under which the game would have been known as \\\\\"Super Bowl L\\\\\"), so that the logo could prominently feature the Arabic numerals 50.',\n",
       "    'qas': [{'answers': [{'answer_start': 177, 'text': 'Denver Broncos'}],\n",
       "      'question': 'Which NFL team represented the AFC at Super Bowl 50?',\n",
       "      'id': 'D28v2LJqwijcrbpwpyDCBu'},\n",
       "     {'answers': [{'answer_start': 249, 'text': 'Carolina Panthers'}],\n",
       "      'question': 'Which NFL team represented the NFC at Super Bowl 50?',\n",
       "      'id': 'HNyYgnaLeE6MaDSZbJ9U5f'}]},\n",
       "   {'context': 'The Panthers finished the regular season with a 15–1 record, and quarterback Cam Newton was named the NFL Most Valuable Player (MVP). They defeated the Arizona Cardinals 49–15 in the NFC Championship Game and advanced to their second Super Bowl appearance since the franchise was founded in 1995. The Broncos finished the regular season with a 12–4 record, and denied the New England Patriots a chance to defend their title from Super Bowl XLIX by defeating them 20–18 in the AFC Championship Game. They joined the Patriots, Dallas Cowboys, and Pittsburgh Steelers as one of four teams that have made eight appearances in the Super Bowl.',\n",
       "    'qas': [{'answers': [{'answer_start': 77, 'text': 'Cam Newton'}],\n",
       "      'question': 'Which Carolina Panthers player was named Most Valuable Player?',\n",
       "      'id': 'cnEEBCsYrmXwprpaLvrHTD'},\n",
       "     {'answers': [{'answer_start': 601, 'text': 'eight'}],\n",
       "      'question': 'How many appearances have the Denver Broncos made in the Super Bowl?',\n",
       "      'id': 'kqdqJm2LZowHAqYKErYRGF'}]}]}]"
      ]
     },
     "execution_count": 9,
     "metadata": {},
     "output_type": "execute_result"
    }
   ],
   "source": [
    "list1"
   ]
  },
  {
   "cell_type": "code",
   "execution_count": 11,
   "metadata": {},
   "outputs": [],
   "source": [
    "def change_np_type(np_num):\n",
    "    if isinstance(np_num, np.int64):\n",
    "        return int(np_num)  \n",
    "    raise TypeError\n",
    "    \n",
    "with open('squad_oneans.json', 'w') as json_file:\n",
    "    json_file.write(json.dumps({'data': list1,'version': '1.1'}, indent=4 ,default=change_np_type))\n",
    "    json_file.close()"
   ]
  },
  {
   "cell_type": "markdown",
   "metadata": {},
   "source": [
    "## demonstration of the module"
   ]
  },
  {
   "cell_type": "code",
   "execution_count": 1,
   "metadata": {},
   "outputs": [],
   "source": [
    "from excel_to_squad import ExceltoSquad"
   ]
  },
  {
   "cell_type": "code",
   "execution_count": 2,
   "metadata": {},
   "outputs": [],
   "source": [
    "excel_path = \"/Users/xaviertang/Documents/AIAP/MFA_xavier/question_answering/allennlp/squad_small.xlsx\"\n",
    "json_path = \"/Users/xaviertang/Desktop/test.json\""
   ]
  },
  {
   "cell_type": "code",
   "execution_count": 3,
   "metadata": {},
   "outputs": [],
   "source": [
    "squad_converter = ExceltoSquad(excel_path, json_path)"
   ]
  },
  {
   "cell_type": "code",
   "execution_count": 4,
   "metadata": {},
   "outputs": [],
   "source": [
    "squad_converter.convert_excel_to_json()"
   ]
  },
  {
   "cell_type": "code",
   "execution_count": null,
   "metadata": {},
   "outputs": [],
   "source": []
  },
  {
   "cell_type": "markdown",
   "metadata": {},
   "source": [
    "## Streamlit"
   ]
  },
  {
   "cell_type": "code",
   "execution_count": 1,
   "metadata": {},
   "outputs": [],
   "source": [
    "import streamlit as st\n",
    "import textract"
   ]
  },
  {
   "cell_type": "code",
   "execution_count": 3,
   "metadata": {},
   "outputs": [],
   "source": [
    "file_path = \"/Users/xaviertang/Desktop/HRC Myanmar_42nd Session [Highlighted - v2101].pdf\""
   ]
  },
  {
   "cell_type": "code",
   "execution_count": 4,
   "metadata": {},
   "outputs": [],
   "source": [
    "txt_full = textract.process(file_path)"
   ]
  },
  {
   "cell_type": "code",
   "execution_count": 5,
   "metadata": {},
   "outputs": [
    {
     "data": {
      "text/plain": [
       "b'United Nations\\n\\nGeneral Assembly\\n\\nA/HRC/42/L.21/Rev.1\\nDistr.: Limited\\n25 September 2019\\nOriginal: English\\n\\nHuman Rights Council\\nForty-second session\\n9\\xe2\\x80\\x9327 September 2019\\nAgenda item 2\\nAnnual report of the United Nations High Commissioner\\nfor Human Rights and reports of the Office of the\\nHigh Commissioner and the Secretary-General\\nAustralia, Austria, Belgium,* Bulgaria, Canada,* Croatia, Cyprus,* Czechia,\\nDenmark, Estonia,* Finland,* France,* Germany,* Greece,* Hungary, Iceland,\\nIreland,* Italy, Latvia,* Lithuania,* Luxembourg,* Malta,* Monaco,* Montenegro,*\\nNetherlands,* New Zealand,* North Macedonia,* Norway,* Pakistan,** Peru,\\nPoland,* Portugal,* Romania,* Slovakia, Slovenia,* Spain, Sweden,* United Kingdom\\nof Great Britain and Northern Ireland and State of Palestine:* draft resolution\\n\\n42/\\xe2\\x80\\xa6 Situation of human rights of Rohingya Muslims and other\\nminorities in Myanmar\\nThe Human Rights Council,\\nGuided by the purposes and principles of the Charter of the United Nations,\\nReaffirming the Universal Declaration of Human Rights and recalling the\\nInternational Covenant on Civil and Political Rights, the International Covenant on\\nEconomic, Social and Cultural Rights, the Convention on the Right of the Child, the\\nConvention on the Elimination of All Forms of Discrimination against Women and the\\nInternational Convention on the Elimination of All Forms of Racial Discrimination, and\\nother relevant international human rights law,\\nRecalling relevant resolutions of the General Assembly and the Human Rights\\nCouncil, the most recent being Assembly resolution 73/264 of 22 December 2018 and\\nCouncil resolutions 40/29 of 22 March 2019, 39/2 of 27 September 2018, 37/32 of 23\\nMarch 2018, 34/22 of 24 March 2017, 29/21 of 3 July 2015, S-27/1 of 5 December 2017\\nand Council decision 36/115 of 29 September 2017,\\nWelcoming the work and the reports of the Special Rapporteur on the situation of\\nhuman rights in Myanmar, while deeply regretting the decision of the Government of\\nMyanmar to discontinue cooperation with the Special Rapporteur and to deny her access to\\nthe country since January 2018,\\nWelcoming also the work of the Special Envoy on Myanmar, and encouraging her\\nfurther engagement and dialogue with the Government of Myanmar,\\n\\n* State not a member of the Human Rights Council.\\n** On behalf of the States Members of the United Nations that are members of the Organization of\\nIslamic Cooperation.\\n\\nGE.19-16420(E)\\n\\n\\xef\\x80\\xaa\\xef\\x80\\xb1\\xef\\x80\\xb9\\xef\\x80\\xb1\\xef\\x80\\xb6\\xef\\x80\\xb4\\xef\\x80\\xb2\\xef\\x80\\xb0\\xef\\x80\\xaa\\xef\\x80\\xa0\\n\\n\\x0cA/HRC/42/L.21/Rev.1\\n\\nWelcoming further the work of the independent international fact-finding mission on\\nMyanmar, including its final report,1 the detailed findings of the independent international\\nfact-finding mission on Myanmar,2 its paper on the economic interests of the Myanmar\\nmilitary3 and its paper on sexual and gender-based violence in Myanmar and the gendered\\nimpact of its ethnic conflicts,4 and appreciating its important work to ensure that the large\\nand continually increasing amount of evidence of human rights violations and abuses it has\\ncollected is fully documented, verified, consolidated and preserved in order for the material\\nto be effectively shared, accessed and used by the ongoing independent mechanism\\nestablished by the Human Rights Council in its resolution 39/2, referred to as the\\nIndependent Investigative Mechanism for Myanmar by the Secretary-General in his terms\\nof reference for the Mechanism,5 and deeply regretting that the Government of Myanmar\\ndid not cooperate with the fact-finding mission,\\nWelcoming the first report of the Mechanism,6\\nRecognizing the ongoing remarkable humanitarian efforts and commitments that the\\nGovernment of Bangladesh has extended to those fleeing human rights violations and\\nabuses in Myanmar, in cooperation with United Nations agencies and the international\\ncommunity,\\nCondemning all violations and abuses of human rights in Myanmar, including\\nagainst Rohingya Muslims and other minorities, and expressing deep concern at the reports\\nof ongoing human rights violations, as also noted by the United Nations High\\nCommissioner for Human Rights in her oral update on 10 July 2019, as well as at the\\nongoing non-cooperation of the Government of Myanmar and the denial of access to United\\nNations mechanisms, including for the Special Rapporteur on the situation of human rights\\nin Myanmar and the independent international fact-finding mission on Myanmar,\\nNoting the steps taken by the Government of Myanmar towards establishing a\\nnational strategy for the sustainable closure of camps for internally displaced persons in\\nMyanmar, and emphasizing the need for the Government to consult with United Nations\\nagencies, humanitarian and development actors and displaced persons to ensure its durable\\nimplementation, in accordance with international standards on safe, voluntary, dignified\\nand sustainable return, by guaranteeing citizenship, the reassertion of those persons\\xe2\\x80\\x99 control\\nover their original land and safety and security, freedom of movement, unimpeded access to\\nlivelihoods and essential services, including health services, education and shelter, and\\ncompensation for all losses,\\nRecalling the establishment of the Independent Commission of Enquiry on 30 July\\n2018 by the Government of Myanmar, stressing the importance of the need to demonstrate\\nits independence, transparency, objectivity and credibility while ensuring witness protection\\nand confidentiality, and encouraging the Commission to cooperate with all relevant United\\nNations mandate holders, as appropriate,\\nRecalling that States have the primary responsibility to respect, protect and fulfil\\nhuman rights, and have the responsibility to comply with their relevant obligations to\\nprosecute those responsible for violations of international law, including international\\nhumanitarian law and international human rights law, and for abuses of human rights law,\\nand to provide an effective remedy to any person whose rights have been violated, such as\\nrestitution, compensation, rehabilitation, satisfaction and guarantees of non-recurrence,\\nwith a view to ending impunity and ensuring accountability and justice,\\n\\n1\\n\\nA/HRC/42/50.\\nA/HRC/42/CRP.5, available at\\nwww.ohchr.org/EN/HRBodies/HRC/RegularSessions/session42/Pages/ListReports.aspx.\\n3 A/HRC/42/CRP.3, available at\\nwww.ohchr.org/EN/HRBodies/HRC/RegularSessions/session42/Pages/ListReports.aspx.\\n4 A/HRC/42/CRP.4, available at\\nwww.ohchr.org/EN/HRBodies/HRC/RegularSessions/session42/Pages/ListReports.aspx.\\n5 See A/73/716, annex.\\n6 A/HRC/42/66.\\n2\\n\\n2\\n\\n\\x0cA/HRC/42/L.21/Rev.1\\n\\nNoting the important role of regional organizations, and recognizing the efforts of\\nthe Association of Southeast Asian Nations to provide humanitarian assistance in\\nMyanmar, supporting Myanmar in creating an environment that is conducive to the safe,\\nvoluntary and dignified return of displaced persons, and reiterating the need to work in\\nclose coordination and in full consultation with the Rohingya, as well as with all relevant\\nUnited Nations agencies and international partners and to address the root causes of the\\nconflict, so that affected communities can rebuild their lives there,\\nAcknowledging the efforts of the Organization of Islamic Cooperation, alongside\\nrelevant international efforts, aiming to bring peace and stability to Rakhine State,\\nincluding through the appointment by the Organization of a special envoy to Myanmar,\\n1.\\nExpresses grave concern at continuing reports of serious human rights\\nviolations and abuses in Myanmar, including against Rohingya Muslims and other\\nminorities, including of arbitrary arrests, torture and other cruel, inhuman or degrading\\ntreatment or punishment, forced labour, the use of school buildings for military purposes,\\nsocioeconomic exploitation, the forced displacement of more than a million Rohingya\\nMuslims to Bangladesh, and sexual and gender-based violence against women and children,\\nas well as restrictions on exercising the rights to freedom of religion or belief, expression\\nand assembly, in particular in Rakhine, Chin, Kachin and Shan States;\\n2.\\nExpresses serious concern at the recent escalation of violence in Rakhine\\nState causing the loss of lives, displacement and further human suffering, and calls upon all\\nparties to show restraint, to respect their relevant obligations under international human\\nrights law and international humanitarian law, to ensure the safety and protection of\\ncivilians and to show readiness to re-engage in dialogue;\\n3.\\nReiterates the urgent need to ensure that all those responsible for crimes\\nrelating to violations and abuses of international law, including international human rights\\nlaw, international humanitarian law and international criminal law, are held to account\\nthrough credible and independent national, regional or international criminal justice\\nmechanisms, and therefore stresses the need for an urgent criminal investigation into\\nalleged crimes against humanity and war crimes in all affected territories in Myanmar,\\nrecalls the authority of the Security Council, and welcomes ongoing efforts at the\\ninternational level;\\n4.\\nCalls upon Myanmar to end immediately all violence and all violations of\\ninternational law in Myanmar, to ensure the protection of the human rights of all persons in\\nMyanmar, including of Rohingya Muslims and persons belonging to other minorities, and\\nto take all measures necessary to provide justice to victims, to ensure full accountability and\\nto end impunity for all violations of human rights by undertaking a full, transparent and\\nindependent investigation into reports of all violations of international human rights law\\nand international humanitarian law;\\n5.\\nEmphasizes the importance of conducting international, independent, fair and\\ntransparent investigations into the gross human rights violations in Myanmar, including\\nsexual and gender-based violence against women and children, and to hold accountable all\\nthose responsible for brutal acts and crimes against all persons, including the Rohingya, in\\norder to deliver justice to victims using all legal instruments and international judicial\\nmechanisms;\\n6.\\nCalls for the immediate cessation of fighting and hostilities, of the targeting\\nof civilians and of all violations and abuses of international human rights law and\\ninternational humanitarian law, and the implementation of an inclusive and comprehensive\\nnational political dialogue and nationwide reconciliation process while ensuring the full,\\neffective and meaningful participation of all ethnic groups, including Rohingya Muslims\\nand other minorities, women and young people, and persons with disabilities, as well as\\ncivil society, with the objective of achieving lasting peace, and calls upon political and\\nreligious leaders in Myanmar to work for a peaceful resolution through dialogue towards\\nnational unity;\\n7.\\nReiterates the urgent call upon the Government of Myanmar to take the\\nmeasures necessary to promote the inclusion, human rights and dignity of all people living\\n\\n3\\n\\n\\x0cA/HRC/42/L.21/Rev.1\\n\\nin Myanmar, to address the spread of discrimination and prejudice and to combat\\nincitement to hatred against Rohingya Muslims and other minorities by publicly\\ncondemning such acts and enacting necessary anti-hate speech laws, in accordance with\\ninternational human rights standards, and by promoting interfaith dialogue in cooperation\\nwith the international community, and encourages political and religious leaders in the\\ncountry to work towards national unity through dialogue;\\n8.\\nAlso reiterates the urgent call upon the Government of Myanmar to sustain\\nthe democratic transition of Myanmar, in particular in view of the general elections in 2020\\ncalled by the Government, by bringing all national institutions, including the military, under\\nthe democratically elected civilian Government;\\n9.\\nWelcomes the restoration of Internet and data services in five townships in\\nRakhine and Chin States, but calls upon the Government of Myanmar to lift the shutdown\\nin the remaining four townships in Rakhine State and to repeal article 77 of the\\nTelecommunications Act in order to avoid any further cutting of Internet access and the\\nstifling of the rights to freedom of opinion and expression and information, in accordance\\nwith international human rights law;\\n10.\\nAlso welcomes the adoption by the Government of Myanmar of a new law on\\nchildren\\xe2\\x80\\x99s rights allowing, inter alia, the registration at birth of all children, and the\\nagreement by Parliament to the ratification of the Optional Protocol to the Convention on\\nthe Rights of the Child on the involvement of children in armed conflict, but emphasizes\\nthe need for the Government to further protect the right of all children, including Rohingya\\nchildren, to acquire citizenship in order to eliminate statelessness, in accordance with the\\nobligations of Myanmar under the Convention on the Rights of the Child, and to ensure the\\nprotection of all children in armed conflict;\\n11.\\nUrges the Government of Myanmar to cooperate fully with and to grant full,\\nunrestricted and unmonitored access to all United Nations mandate holders and human\\nrights mechanisms, including the Special Rapporteur, the ongoing independent mechanism\\nestablished by the Human Rights Council in its resolution 39/2, referred to by the\\nSecretary-General as the Independent Investigative Mechanism for Myanmar in his terms\\nof reference for the Mechanism, relevant United Nations agencies and international and\\nregional human rights bodies to independently monitor the situation of human rights, and to\\nensure that individuals can cooperate without hindrance with these mechanisms without\\nfear of reprisal, intimidation or attack, and expresses deep concern that international access\\nto affected areas of Northern Rakhine State remains severely restricted for the international\\ncommunity, including for United Nations agencies, humanitarian actors and international\\nmedia;\\n12.\\nWelcomes the entry into operation on 30 August 2019 of the Mechanism,\\nwith its mandate to collect, consolidate, preserve and analyse evidence of the most serious\\ninternational crimes and violations of international law committed in Myanmar since 2011,\\nand to prepare files in order to facilitate and expedite fair and independent criminal\\nproceedings, in accordance with international law standards, in national, regional or\\ninternational courts or tribunals that have or may in the future have jurisdiction over these\\ncrimes, in accordance with international law, and urges the Mechanism to swiftly advance\\nits work and to ensure the effective use of evidence of the most serious international crimes\\nand violations of international law collected by the independent international fact-finding\\nmission;\\n13.\\nCalls for close cooperation between the Mechanism and any ongoing or\\nfuture investigations pertaining to serious international crimes and violations of\\ninternational law in Myanmar by national, regional or international courts or tribunals;\\n14.\\nCalls upon the United Nations to ensure that the Mechanism is afforded the\\nnecessary support and resources it needs in terms of staffing, location and operational\\nfreedom so it can deliver as effectively as possible on its mandate, and urges Member\\nStates in the region to cooperate with the Mechanism, to grant it access and to provide it\\nwith every assistance in the execution of its mandate;\\n\\n4\\n\\n\\x0cA/HRC/42/L.21/Rev.1\\n\\n15.\\nWelcomes the final report of the independent international fact-finding\\nmission,1 and urges the Government of Myanmar and the international community to give\\ndue consideration to the recommendations contained in the reports of the fact-finding\\nmission;\\n16.\\nReiterates the importance of the full implementation of all recommendations\\nof the Advisory Commission on Rakhine State to address the root causes of the crisis,\\nincluding those on the right to a nationality and equal access to citizenship, freedom of\\nmovement, the elimination of systematic segregation and all forms of discrimination, and\\ninclusive and equal access to health services and education, and birth registration, in full\\nconsultation with all ethnic and religious minorities and persons in vulnerable situations, as\\nwell as civil society;\\n17.\\nCalls upon the Government of Myanmar to make efforts to eliminate\\nstatelessness and the systematic and institutionalized discrimination against members of\\nethnic and religious minorities, in particular relating to the Rohingya Muslims, by, inter\\nalia, reviewing the 1982 Citizenship Law, which has led to the deprivation of human rights;\\nby ensuring everyone\\xe2\\x80\\x99s right to a nationality and equal access to full citizenship through a\\ntransparent, voluntary and accessible procedure and to all civil and political rights by\\nallowing for self-identification; by amending or repealing all discriminatory legislation and\\npolicies, including discriminatory provisions of the set of \\xe2\\x80\\x9cprotection of race and religion\\nlaws\\xe2\\x80\\x9d enacted in 2015 covering religious conversion, interfaith marriage, monogamy and\\npopulation control; and by lifting all local orders restricting rights to freedom of movement\\nand access to civil registration, health and education services and livelihoods;\\n18.\\nUrges the Government of Myanmar to take all measures necessary to reverse\\nand abandon policies, directives and practices that marginalize Rohingya Muslims and\\nother minorities, to prevent the destruction of places of worship, cemeteries, infrastructure\\nand commercial or residential buildings belonging to all peoples, to ensure that all\\ndisplaced persons, including Rohingya Muslims and persons belonging to other minorities,\\nin Rakhine State and throughout Myanmar, including the 128,000 Rohingya and Kaman\\nMuslims who have been confined in camps in central Rakhine since 2012, can return to\\ntheir homes and properties with freedom of movement and unimpeded access to livelihoods\\nand essential services, to review relevant laws, and to address the root causes of their\\nvulnerability and forced displacement;\\n19.\\nWelcomes the recent extension for one year of the memorandum of\\nunderstanding between the Government of Myanmar, the United Nations Development\\nProgramme and the Office of the United Nations High Commissioner for Refugees to\\nassociate them to the implementation of bilateral arrangements with Bangladesh on the\\nreturn of displaced persons from Rakhine State, and emphasizes the need for the\\nGovernment of Myanmar to continue to cooperate fully with the Government of\\nBangladesh and with the United Nations, in particular the Office of the United Nations\\nHigh Commissioner for Refugees, and in consultation with the populations concerned to\\nenable the safe, voluntary, dignified sustainable and well-informed return of all refugees\\nand forcibly displaced persons, including internally displaced persons, to their places of\\norigin in Myanmar, and to give returnees freedom of movement and unimpeded access to\\nlivelihoods, social services, including health services, education and shelter, and to\\ncompensate them for all losses;\\n20.\\nCalls upon the Government of Myanmar, in line with the bilateral\\ninstruments on repatriation signed by Bangladesh and Myanmar, to take concrete steps\\ntowards the creation of a conducive environment for the voluntary safe, dignified and\\nsustainable return of the forcibly displaced Rohingya residing in Bangladesh, and to\\ndisseminate authentic information, in partnership with the United Nations and other\\nrelevant actors, on the conditions in Rakhine State in order to reasonably address the core\\nconcerns of the Rohingya, thereby encouraging them to return to their places of origin;\\n21.\\nExpresses grave concern at the continuing restrictions on humanitarian\\naccess, in particular in Rakhine, Chin, Kachin and Shan States, calls upon the Government\\nof Myanmar to ensure full respect for international humanitarian law and to allow the full,\\nsafe and unhindered access of humanitarian personnel to all government-controlled and\\n\\n5\\n\\n\\x0cA/HRC/42/L.21/Rev.1\\n\\nnon-government-controlled areas, and to provide humanitarian assistance, including ageand gender-responsive assistance, as well as the delivery of supplies and equipment, in\\norder to allow such personnel to perform efficiently their tasks of assisting the affected\\ncivilian populations, including internally displaced persons, and encourages it to grant\\naccess to the diplomatic corps, independent observers and representatives of the national\\nand international independent media, without fear of reprisals;\\n22.\\nEncourages the international community, in the true spirit of interdependence\\nand burden-sharing, to continue to assist Bangladesh in the provision of humanitarian\\nassistance to forcibly displaced Rohingya Muslims and other minorities until their return to\\ntheir places of origin in Myanmar, and to assist Myanmar in the provision of humanitarian\\nassistance to all affected persons of all communities displaced internally in Myanmar,\\nincluding in Rakhine State, taking into account the vulnerable situation of women, children,\\nolder persons and persons with disabilities;\\n23.\\nCalls upon the United Nations and encourages other international agencies to\\nprovide all support necessary for the Governments of Bangladesh and Myanmar to expedite\\nthe safe, voluntary, dignified and sustainable return of forcibly displaced Rohingya\\nMuslims and other minorities from Myanmar, including internally displaced persons,\\nincluding through the early implementation of the memorandum of understanding signed by\\nthe Government of Myanmar, the Office of the United Nations High Commissioner for\\nRefugees and the United Nations Development Programme;\\n24.\\nEncourages all business enterprises, including transnational corporations and\\ndomestic enterprises, to respect human rights in accordance with the Guiding Principles on\\nBusiness and Human Rights, and calls upon the home States of business enterprises\\noperating in Myanmar to set out clearly the expectation that all business enterprises\\ndomiciled in their territory and/or jurisdiction respect human rights throughout their\\noperations;\\n25.\\nRequests the United Nations High Commissioner for Human Rights to follow\\nup on the implementation of the recommendations made by the independent international\\nfact-finding mission, including those on accountability, and to continue to track progress in\\nthe situation of human rights in Myanmar, including of Rohingya Muslims and other\\nminorities, and to present a written report thereon to the Human Rights Council at its fortyfifth session, to be followed by an enhanced interactive dialogue, and to the General\\nAssembly at its seventy-fifth session;\\n26.\\nDecides to transmit the reports of the independent international fact-finding\\nmission on Myanmar to the General Assembly, and recommends that the Assembly\\ntransmit the reports to all relevant United Nations bodies, and requests the Chair of the\\nindependent international fact-finding mission to present the reports to the Assembly at its\\nseventy-fourth session;\\n27.\\nWelcomes the commitment of the Secretary-General to fully implement the\\nrecommendations contained in the report entitled \\xe2\\x80\\x9cA brief and independent inquiry into the\\ninvolvement of the United Nations in Myanmar from 2010 to 2018\\xe2\\x80\\x9d dated 29 May 2019,\\nand invites the Secretary-General to ensure a system-wide approach in implementing those\\nrecommendations, to ensure that all involvement with Myanmar takes into account and\\naddresses human rights concerns, and also invites him to include an update on the\\nimplementation of the recommendations in his presentation to the Human Rights Council at\\nits forty-third session, in accordance with Council resolution 40/29.\\n\\n6\\n\\n\\x0c'"
      ]
     },
     "execution_count": 5,
     "metadata": {},
     "output_type": "execute_result"
    }
   ],
   "source": [
    "txt_full"
   ]
  },
  {
   "cell_type": "code",
   "execution_count": 10,
   "metadata": {},
   "outputs": [],
   "source": [
    "data_temp = txt_full.decode('utf-8',\"ignore\")"
   ]
  },
  {
   "cell_type": "code",
   "execution_count": 15,
   "metadata": {},
   "outputs": [
    {
     "data": {
      "text/plain": [
       "'United Nations\\n\\nGeneral Assembly\\n\\nA/HRC/42/L.21/Rev.1\\nDistr.: Limited\\n25 September 2019\\nOriginal: English\\n\\nHuman Rights Council\\nForty-second session\\n9–27 September 2019\\nAgenda item 2\\nAnnual report of the United Nations High Commissioner\\nfor Human Rights and reports of the Office of the\\nHigh Commissioner and the Secretary-General\\nAustralia, Austria, Belgium,* Bulgaria, Canada,* Croatia, Cyprus,* Czechia,\\nDenmark, Estonia,* Finland,* France,* Germany,* Greece,* Hungary, Iceland,\\nIreland,* Italy, Latvia,* Lithuania,* Luxembourg,* Malta,* Monaco,* Montenegro,*\\nNetherlands,* New Zealand,* North Macedonia,* Norway,* Pakistan,** Peru,\\nPoland,* Portugal,* Romania,* Slovakia, Slovenia,* Spain, Sweden,* United Kingdom\\nof Great Britain and Northern Ireland and State of Palestine:* draft resolution\\n\\n42/… Situation of human rights of Rohingya Muslims and other\\nminorities in Myanmar\\nThe Human Rights Council,\\nGuided by the purposes and principles of the Charter of the United Nations,\\nReaffirming the Universal Declaration of Human Rights and recalling the\\nInternational Covenant on Civil and Political Rights, the International Covenant on\\nEconomic, Social and Cultural Rights, the Convention on the Right of the Child, the\\nConvention on the Elimination of All Forms of Discrimination against Women and the\\nInternational Convention on the Elimination of All Forms of Racial Discrimination, and\\nother relevant international human rights law,\\nRecalling relevant resolutions of the General Assembly and the Human Rights\\nCouncil, the most recent being Assembly resolution 73/264 of 22 December 2018 and\\nCouncil resolutions 40/29 of 22 March 2019, 39/2 of 27 September 2018, 37/32 of 23\\nMarch 2018, 34/22 of 24 March 2017, 29/21 of 3 July 2015, S-27/1 of 5 December 2017\\nand Council decision 36/115 of 29 September 2017,\\nWelcoming the work and the reports of the Special Rapporteur on the situation of\\nhuman rights in Myanmar, while deeply regretting the decision of the Government of\\nMyanmar to discontinue cooperation with the Special Rapporteur and to deny her access to\\nthe country since January 2018,\\nWelcoming also the work of the Special Envoy on Myanmar, and encouraging her\\nfurther engagement and dialogue with the Government of Myanmar,\\n\\n* State not a member of the Human Rights Council.\\n** On behalf of the States Members of the United Nations that are members of the Organization of\\nIslamic Cooperation.\\n\\nGE.19-16420(E)\\n\\n\\uf02a\\uf031\\uf039\\uf031\\uf036\\uf034\\uf032\\uf030\\uf02a\\uf020\\n\\n\\x0cA/HRC/42/L.21/Rev.1\\n\\nWelcoming further the work of the independent international fact-finding mission on\\nMyanmar, including its final report,1 the detailed findings of the independent international\\nfact-finding mission on Myanmar,2 its paper on the economic interests of the Myanmar\\nmilitary3 and its paper on sexual and gender-based violence in Myanmar and the gendered\\nimpact of its ethnic conflicts,4 and appreciating its important work to ensure that the large\\nand continually increasing amount of evidence of human rights violations and abuses it has\\ncollected is fully documented, verified, consolidated and preserved in order for the material\\nto be effectively shared, accessed and used by the ongoing independent mechanism\\nestablished by the Human Rights Council in its resolution 39/2, referred to as the\\nIndependent Investigative Mechanism for Myanmar by the Secretary-General in his terms\\nof reference for the Mechanism,5 and deeply regretting that the Government of Myanmar\\ndid not cooperate with the fact-finding mission,\\nWelcoming the first report of the Mechanism,6\\nRecognizing the ongoing remarkable humanitarian efforts and commitments that the\\nGovernment of Bangladesh has extended to those fleeing human rights violations and\\nabuses in Myanmar, in cooperation with United Nations agencies and the international\\ncommunity,\\nCondemning all violations and abuses of human rights in Myanmar, including\\nagainst Rohingya Muslims and other minorities, and expressing deep concern at the reports\\nof ongoing human rights violations, as also noted by the United Nations High\\nCommissioner for Human Rights in her oral update on 10 July 2019, as well as at the\\nongoing non-cooperation of the Government of Myanmar and the denial of access to United\\nNations mechanisms, including for the Special Rapporteur on the situation of human rights\\nin Myanmar and the independent international fact-finding mission on Myanmar,\\nNoting the steps taken by the Government of Myanmar towards establishing a\\nnational strategy for the sustainable closure of camps for internally displaced persons in\\nMyanmar, and emphasizing the need for the Government to consult with United Nations\\nagencies, humanitarian and development actors and displaced persons to ensure its durable\\nimplementation, in accordance with international standards on safe, voluntary, dignified\\nand sustainable return, by guaranteeing citizenship, the reassertion of those persons’ control\\nover their original land and safety and security, freedom of movement, unimpeded access to\\nlivelihoods and essential services, including health services, education and shelter, and\\ncompensation for all losses,\\nRecalling the establishment of the Independent Commission of Enquiry on 30 July\\n2018 by the Government of Myanmar, stressing the importance of the need to demonstrate\\nits independence, transparency, objectivity and credibility while ensuring witness protection\\nand confidentiality, and encouraging the Commission to cooperate with all relevant United\\nNations mandate holders, as appropriate,\\nRecalling that States have the primary responsibility to respect, protect and fulfil\\nhuman rights, and have the responsibility to comply with their relevant obligations to\\nprosecute those responsible for violations of international law, including international\\nhumanitarian law and international human rights law, and for abuses of human rights law,\\nand to provide an effective remedy to any person whose rights have been violated, such as\\nrestitution, compensation, rehabilitation, satisfaction and guarantees of non-recurrence,\\nwith a view to ending impunity and ensuring accountability and justice,\\n\\n1\\n\\nA/HRC/42/50.\\nA/HRC/42/CRP.5, available at\\nwww.ohchr.org/EN/HRBodies/HRC/RegularSessions/session42/Pages/ListReports.aspx.\\n3 A/HRC/42/CRP.3, available at\\nwww.ohchr.org/EN/HRBodies/HRC/RegularSessions/session42/Pages/ListReports.aspx.\\n4 A/HRC/42/CRP.4, available at\\nwww.ohchr.org/EN/HRBodies/HRC/RegularSessions/session42/Pages/ListReports.aspx.\\n5 See A/73/716, annex.\\n6 A/HRC/42/66.\\n2\\n\\n2\\n\\n\\x0cA/HRC/42/L.21/Rev.1\\n\\nNoting the important role of regional organizations, and recognizing the efforts of\\nthe Association of Southeast Asian Nations to provide humanitarian assistance in\\nMyanmar, supporting Myanmar in creating an environment that is conducive to the safe,\\nvoluntary and dignified return of displaced persons, and reiterating the need to work in\\nclose coordination and in full consultation with the Rohingya, as well as with all relevant\\nUnited Nations agencies and international partners and to address the root causes of the\\nconflict, so that affected communities can rebuild their lives there,\\nAcknowledging the efforts of the Organization of Islamic Cooperation, alongside\\nrelevant international efforts, aiming to bring peace and stability to Rakhine State,\\nincluding through the appointment by the Organization of a special envoy to Myanmar,\\n1.\\nExpresses grave concern at continuing reports of serious human rights\\nviolations and abuses in Myanmar, including against Rohingya Muslims and other\\nminorities, including of arbitrary arrests, torture and other cruel, inhuman or degrading\\ntreatment or punishment, forced labour, the use of school buildings for military purposes,\\nsocioeconomic exploitation, the forced displacement of more than a million Rohingya\\nMuslims to Bangladesh, and sexual and gender-based violence against women and children,\\nas well as restrictions on exercising the rights to freedom of religion or belief, expression\\nand assembly, in particular in Rakhine, Chin, Kachin and Shan States;\\n2.\\nExpresses serious concern at the recent escalation of violence in Rakhine\\nState causing the loss of lives, displacement and further human suffering, and calls upon all\\nparties to show restraint, to respect their relevant obligations under international human\\nrights law and international humanitarian law, to ensure the safety and protection of\\ncivilians and to show readiness to re-engage in dialogue;\\n3.\\nReiterates the urgent need to ensure that all those responsible for crimes\\nrelating to violations and abuses of international law, including international human rights\\nlaw, international humanitarian law and international criminal law, are held to account\\nthrough credible and independent national, regional or international criminal justice\\nmechanisms, and therefore stresses the need for an urgent criminal investigation into\\nalleged crimes against humanity and war crimes in all affected territories in Myanmar,\\nrecalls the authority of the Security Council, and welcomes ongoing efforts at the\\ninternational level;\\n4.\\nCalls upon Myanmar to end immediately all violence and all violations of\\ninternational law in Myanmar, to ensure the protection of the human rights of all persons in\\nMyanmar, including of Rohingya Muslims and persons belonging to other minorities, and\\nto take all measures necessary to provide justice to victims, to ensure full accountability and\\nto end impunity for all violations of human rights by undertaking a full, transparent and\\nindependent investigation into reports of all violations of international human rights law\\nand international humanitarian law;\\n5.\\nEmphasizes the importance of conducting international, independent, fair and\\ntransparent investigations into the gross human rights violations in Myanmar, including\\nsexual and gender-based violence against women and children, and to hold accountable all\\nthose responsible for brutal acts and crimes against all persons, including the Rohingya, in\\norder to deliver justice to victims using all legal instruments and international judicial\\nmechanisms;\\n6.\\nCalls for the immediate cessation of fighting and hostilities, of the targeting\\nof civilians and of all violations and abuses of international human rights law and\\ninternational humanitarian law, and the implementation of an inclusive and comprehensive\\nnational political dialogue and nationwide reconciliation process while ensuring the full,\\neffective and meaningful participation of all ethnic groups, including Rohingya Muslims\\nand other minorities, women and young people, and persons with disabilities, as well as\\ncivil society, with the objective of achieving lasting peace, and calls upon political and\\nreligious leaders in Myanmar to work for a peaceful resolution through dialogue towards\\nnational unity;\\n7.\\nReiterates the urgent call upon the Government of Myanmar to take the\\nmeasures necessary to promote the inclusion, human rights and dignity of all people living\\n\\n3\\n\\n\\x0cA/HRC/42/L.21/Rev.1\\n\\nin Myanmar, to address the spread of discrimination and prejudice and to combat\\nincitement to hatred against Rohingya Muslims and other minorities by publicly\\ncondemning such acts and enacting necessary anti-hate speech laws, in accordance with\\ninternational human rights standards, and by promoting interfaith dialogue in cooperation\\nwith the international community, and encourages political and religious leaders in the\\ncountry to work towards national unity through dialogue;\\n8.\\nAlso reiterates the urgent call upon the Government of Myanmar to sustain\\nthe democratic transition of Myanmar, in particular in view of the general elections in 2020\\ncalled by the Government, by bringing all national institutions, including the military, under\\nthe democratically elected civilian Government;\\n9.\\nWelcomes the restoration of Internet and data services in five townships in\\nRakhine and Chin States, but calls upon the Government of Myanmar to lift the shutdown\\nin the remaining four townships in Rakhine State and to repeal article 77 of the\\nTelecommunications Act in order to avoid any further cutting of Internet access and the\\nstifling of the rights to freedom of opinion and expression and information, in accordance\\nwith international human rights law;\\n10.\\nAlso welcomes the adoption by the Government of Myanmar of a new law on\\nchildren’s rights allowing, inter alia, the registration at birth of all children, and the\\nagreement by Parliament to the ratification of the Optional Protocol to the Convention on\\nthe Rights of the Child on the involvement of children in armed conflict, but emphasizes\\nthe need for the Government to further protect the right of all children, including Rohingya\\nchildren, to acquire citizenship in order to eliminate statelessness, in accordance with the\\nobligations of Myanmar under the Convention on the Rights of the Child, and to ensure the\\nprotection of all children in armed conflict;\\n11.\\nUrges the Government of Myanmar to cooperate fully with and to grant full,\\nunrestricted and unmonitored access to all United Nations mandate holders and human\\nrights mechanisms, including the Special Rapporteur, the ongoing independent mechanism\\nestablished by the Human Rights Council in its resolution 39/2, referred to by the\\nSecretary-General as the Independent Investigative Mechanism for Myanmar in his terms\\nof reference for the Mechanism, relevant United Nations agencies and international and\\nregional human rights bodies to independently monitor the situation of human rights, and to\\nensure that individuals can cooperate without hindrance with these mechanisms without\\nfear of reprisal, intimidation or attack, and expresses deep concern that international access\\nto affected areas of Northern Rakhine State remains severely restricted for the international\\ncommunity, including for United Nations agencies, humanitarian actors and international\\nmedia;\\n12.\\nWelcomes the entry into operation on 30 August 2019 of the Mechanism,\\nwith its mandate to collect, consolidate, preserve and analyse evidence of the most serious\\ninternational crimes and violations of international law committed in Myanmar since 2011,\\nand to prepare files in order to facilitate and expedite fair and independent criminal\\nproceedings, in accordance with international law standards, in national, regional or\\ninternational courts or tribunals that have or may in the future have jurisdiction over these\\ncrimes, in accordance with international law, and urges the Mechanism to swiftly advance\\nits work and to ensure the effective use of evidence of the most serious international crimes\\nand violations of international law collected by the independent international fact-finding\\nmission;\\n13.\\nCalls for close cooperation between the Mechanism and any ongoing or\\nfuture investigations pertaining to serious international crimes and violations of\\ninternational law in Myanmar by national, regional or international courts or tribunals;\\n14.\\nCalls upon the United Nations to ensure that the Mechanism is afforded the\\nnecessary support and resources it needs in terms of staffing, location and operational\\nfreedom so it can deliver as effectively as possible on its mandate, and urges Member\\nStates in the region to cooperate with the Mechanism, to grant it access and to provide it\\nwith every assistance in the execution of its mandate;\\n\\n4\\n\\n\\x0cA/HRC/42/L.21/Rev.1\\n\\n15.\\nWelcomes the final report of the independent international fact-finding\\nmission,1 and urges the Government of Myanmar and the international community to give\\ndue consideration to the recommendations contained in the reports of the fact-finding\\nmission;\\n16.\\nReiterates the importance of the full implementation of all recommendations\\nof the Advisory Commission on Rakhine State to address the root causes of the crisis,\\nincluding those on the right to a nationality and equal access to citizenship, freedom of\\nmovement, the elimination of systematic segregation and all forms of discrimination, and\\ninclusive and equal access to health services and education, and birth registration, in full\\nconsultation with all ethnic and religious minorities and persons in vulnerable situations, as\\nwell as civil society;\\n17.\\nCalls upon the Government of Myanmar to make efforts to eliminate\\nstatelessness and the systematic and institutionalized discrimination against members of\\nethnic and religious minorities, in particular relating to the Rohingya Muslims, by, inter\\nalia, reviewing the 1982 Citizenship Law, which has led to the deprivation of human rights;\\nby ensuring everyone’s right to a nationality and equal access to full citizenship through a\\ntransparent, voluntary and accessible procedure and to all civil and political rights by\\nallowing for self-identification; by amending or repealing all discriminatory legislation and\\npolicies, including discriminatory provisions of the set of “protection of race and religion\\nlaws” enacted in 2015 covering religious conversion, interfaith marriage, monogamy and\\npopulation control; and by lifting all local orders restricting rights to freedom of movement\\nand access to civil registration, health and education services and livelihoods;\\n18.\\nUrges the Government of Myanmar to take all measures necessary to reverse\\nand abandon policies, directives and practices that marginalize Rohingya Muslims and\\nother minorities, to prevent the destruction of places of worship, cemeteries, infrastructure\\nand commercial or residential buildings belonging to all peoples, to ensure that all\\ndisplaced persons, including Rohingya Muslims and persons belonging to other minorities,\\nin Rakhine State and throughout Myanmar, including the 128,000 Rohingya and Kaman\\nMuslims who have been confined in camps in central Rakhine since 2012, can return to\\ntheir homes and properties with freedom of movement and unimpeded access to livelihoods\\nand essential services, to review relevant laws, and to address the root causes of their\\nvulnerability and forced displacement;\\n19.\\nWelcomes the recent extension for one year of the memorandum of\\nunderstanding between the Government of Myanmar, the United Nations Development\\nProgramme and the Office of the United Nations High Commissioner for Refugees to\\nassociate them to the implementation of bilateral arrangements with Bangladesh on the\\nreturn of displaced persons from Rakhine State, and emphasizes the need for the\\nGovernment of Myanmar to continue to cooperate fully with the Government of\\nBangladesh and with the United Nations, in particular the Office of the United Nations\\nHigh Commissioner for Refugees, and in consultation with the populations concerned to\\nenable the safe, voluntary, dignified sustainable and well-informed return of all refugees\\nand forcibly displaced persons, including internally displaced persons, to their places of\\norigin in Myanmar, and to give returnees freedom of movement and unimpeded access to\\nlivelihoods, social services, including health services, education and shelter, and to\\ncompensate them for all losses;\\n20.\\nCalls upon the Government of Myanmar, in line with the bilateral\\ninstruments on repatriation signed by Bangladesh and Myanmar, to take concrete steps\\ntowards the creation of a conducive environment for the voluntary safe, dignified and\\nsustainable return of the forcibly displaced Rohingya residing in Bangladesh, and to\\ndisseminate authentic information, in partnership with the United Nations and other\\nrelevant actors, on the conditions in Rakhine State in order to reasonably address the core\\nconcerns of the Rohingya, thereby encouraging them to return to their places of origin;\\n21.\\nExpresses grave concern at the continuing restrictions on humanitarian\\naccess, in particular in Rakhine, Chin, Kachin and Shan States, calls upon the Government\\nof Myanmar to ensure full respect for international humanitarian law and to allow the full,\\nsafe and unhindered access of humanitarian personnel to all government-controlled and\\n\\n5\\n\\n\\x0cA/HRC/42/L.21/Rev.1\\n\\nnon-government-controlled areas, and to provide humanitarian assistance, including ageand gender-responsive assistance, as well as the delivery of supplies and equipment, in\\norder to allow such personnel to perform efficiently their tasks of assisting the affected\\ncivilian populations, including internally displaced persons, and encourages it to grant\\naccess to the diplomatic corps, independent observers and representatives of the national\\nand international independent media, without fear of reprisals;\\n22.\\nEncourages the international community, in the true spirit of interdependence\\nand burden-sharing, to continue to assist Bangladesh in the provision of humanitarian\\nassistance to forcibly displaced Rohingya Muslims and other minorities until their return to\\ntheir places of origin in Myanmar, and to assist Myanmar in the provision of humanitarian\\nassistance to all affected persons of all communities displaced internally in Myanmar,\\nincluding in Rakhine State, taking into account the vulnerable situation of women, children,\\nolder persons and persons with disabilities;\\n23.\\nCalls upon the United Nations and encourages other international agencies to\\nprovide all support necessary for the Governments of Bangladesh and Myanmar to expedite\\nthe safe, voluntary, dignified and sustainable return of forcibly displaced Rohingya\\nMuslims and other minorities from Myanmar, including internally displaced persons,\\nincluding through the early implementation of the memorandum of understanding signed by\\nthe Government of Myanmar, the Office of the United Nations High Commissioner for\\nRefugees and the United Nations Development Programme;\\n24.\\nEncourages all business enterprises, including transnational corporations and\\ndomestic enterprises, to respect human rights in accordance with the Guiding Principles on\\nBusiness and Human Rights, and calls upon the home States of business enterprises\\noperating in Myanmar to set out clearly the expectation that all business enterprises\\ndomiciled in their territory and/or jurisdiction respect human rights throughout their\\noperations;\\n25.\\nRequests the United Nations High Commissioner for Human Rights to follow\\nup on the implementation of the recommendations made by the independent international\\nfact-finding mission, including those on accountability, and to continue to track progress in\\nthe situation of human rights in Myanmar, including of Rohingya Muslims and other\\nminorities, and to present a written report thereon to the Human Rights Council at its fortyfifth session, to be followed by an enhanced interactive dialogue, and to the General\\nAssembly at its seventy-fifth session;\\n26.\\nDecides to transmit the reports of the independent international fact-finding\\nmission on Myanmar to the General Assembly, and recommends that the Assembly\\ntransmit the reports to all relevant United Nations bodies, and requests the Chair of the\\nindependent international fact-finding mission to present the reports to the Assembly at its\\nseventy-fourth session;\\n27.\\nWelcomes the commitment of the Secretary-General to fully implement the\\nrecommendations contained in the report entitled “A brief and independent inquiry into the\\ninvolvement of the United Nations in Myanmar from 2010 to 2018” dated 29 May 2019,\\nand invites the Secretary-General to ensure a system-wide approach in implementing those\\nrecommendations, to ensure that all involvement with Myanmar takes into account and\\naddresses human rights concerns, and also invites him to include an update on the\\nimplementation of the recommendations in his presentation to the Human Rights Council at\\nits forty-third session, in accordance with Council resolution 40/29.\\n\\n6\\n\\n\\x0c'"
      ]
     },
     "execution_count": 15,
     "metadata": {},
     "output_type": "execute_result"
    }
   ],
   "source": [
    "data_temp"
   ]
  },
  {
   "cell_type": "code",
   "execution_count": 34,
   "metadata": {},
   "outputs": [],
   "source": [
    "para_list = list(filter(lambda x : len(x.split()) > 10, data_temp.split('\\n\\n')))"
   ]
  },
  {
   "cell_type": "code",
   "execution_count": 36,
   "metadata": {},
   "outputs": [
    {
     "data": {
      "text/plain": [
       "['Human Rights Council\\nForty-second session\\n9–27 September 2019\\nAgenda item 2\\nAnnual report of the United Nations High Commissioner\\nfor Human Rights and reports of the Office of the\\nHigh Commissioner and the Secretary-General\\nAustralia, Austria, Belgium,* Bulgaria, Canada,* Croatia, Cyprus,* Czechia,\\nDenmark, Estonia,* Finland,* France,* Germany,* Greece,* Hungary, Iceland,\\nIreland,* Italy, Latvia,* Lithuania,* Luxembourg,* Malta,* Monaco,* Montenegro,*\\nNetherlands,* New Zealand,* North Macedonia,* Norway,* Pakistan,** Peru,\\nPoland,* Portugal,* Romania,* Slovakia, Slovenia,* Spain, Sweden,* United Kingdom\\nof Great Britain and Northern Ireland and State of Palestine:* draft resolution',\n",
       " '42/… Situation of human rights of Rohingya Muslims and other\\nminorities in Myanmar\\nThe Human Rights Council,\\nGuided by the purposes and principles of the Charter of the United Nations,\\nReaffirming the Universal Declaration of Human Rights and recalling the\\nInternational Covenant on Civil and Political Rights, the International Covenant on\\nEconomic, Social and Cultural Rights, the Convention on the Right of the Child, the\\nConvention on the Elimination of All Forms of Discrimination against Women and the\\nInternational Convention on the Elimination of All Forms of Racial Discrimination, and\\nother relevant international human rights law,\\nRecalling relevant resolutions of the General Assembly and the Human Rights\\nCouncil, the most recent being Assembly resolution 73/264 of 22 December 2018 and\\nCouncil resolutions 40/29 of 22 March 2019, 39/2 of 27 September 2018, 37/32 of 23\\nMarch 2018, 34/22 of 24 March 2017, 29/21 of 3 July 2015, S-27/1 of 5 December 2017\\nand Council decision 36/115 of 29 September 2017,\\nWelcoming the work and the reports of the Special Rapporteur on the situation of\\nhuman rights in Myanmar, while deeply regretting the decision of the Government of\\nMyanmar to discontinue cooperation with the Special Rapporteur and to deny her access to\\nthe country since January 2018,\\nWelcoming also the work of the Special Envoy on Myanmar, and encouraging her\\nfurther engagement and dialogue with the Government of Myanmar,',\n",
       " '* State not a member of the Human Rights Council.\\n** On behalf of the States Members of the United Nations that are members of the Organization of\\nIslamic Cooperation.',\n",
       " 'Welcoming further the work of the independent international fact-finding mission on\\nMyanmar, including its final report,1 the detailed findings of the independent international\\nfact-finding mission on Myanmar,2 its paper on the economic interests of the Myanmar\\nmilitary3 and its paper on sexual and gender-based violence in Myanmar and the gendered\\nimpact of its ethnic conflicts,4 and appreciating its important work to ensure that the large\\nand continually increasing amount of evidence of human rights violations and abuses it has\\ncollected is fully documented, verified, consolidated and preserved in order for the material\\nto be effectively shared, accessed and used by the ongoing independent mechanism\\nestablished by the Human Rights Council in its resolution 39/2, referred to as the\\nIndependent Investigative Mechanism for Myanmar by the Secretary-General in his terms\\nof reference for the Mechanism,5 and deeply regretting that the Government of Myanmar\\ndid not cooperate with the fact-finding mission,\\nWelcoming the first report of the Mechanism,6\\nRecognizing the ongoing remarkable humanitarian efforts and commitments that the\\nGovernment of Bangladesh has extended to those fleeing human rights violations and\\nabuses in Myanmar, in cooperation with United Nations agencies and the international\\ncommunity,\\nCondemning all violations and abuses of human rights in Myanmar, including\\nagainst Rohingya Muslims and other minorities, and expressing deep concern at the reports\\nof ongoing human rights violations, as also noted by the United Nations High\\nCommissioner for Human Rights in her oral update on 10 July 2019, as well as at the\\nongoing non-cooperation of the Government of Myanmar and the denial of access to United\\nNations mechanisms, including for the Special Rapporteur on the situation of human rights\\nin Myanmar and the independent international fact-finding mission on Myanmar,\\nNoting the steps taken by the Government of Myanmar towards establishing a\\nnational strategy for the sustainable closure of camps for internally displaced persons in\\nMyanmar, and emphasizing the need for the Government to consult with United Nations\\nagencies, humanitarian and development actors and displaced persons to ensure its durable\\nimplementation, in accordance with international standards on safe, voluntary, dignified\\nand sustainable return, by guaranteeing citizenship, the reassertion of those persons’ control\\nover their original land and safety and security, freedom of movement, unimpeded access to\\nlivelihoods and essential services, including health services, education and shelter, and\\ncompensation for all losses,\\nRecalling the establishment of the Independent Commission of Enquiry on 30 July\\n2018 by the Government of Myanmar, stressing the importance of the need to demonstrate\\nits independence, transparency, objectivity and credibility while ensuring witness protection\\nand confidentiality, and encouraging the Commission to cooperate with all relevant United\\nNations mandate holders, as appropriate,\\nRecalling that States have the primary responsibility to respect, protect and fulfil\\nhuman rights, and have the responsibility to comply with their relevant obligations to\\nprosecute those responsible for violations of international law, including international\\nhumanitarian law and international human rights law, and for abuses of human rights law,\\nand to provide an effective remedy to any person whose rights have been violated, such as\\nrestitution, compensation, rehabilitation, satisfaction and guarantees of non-recurrence,\\nwith a view to ending impunity and ensuring accountability and justice,',\n",
       " 'A/HRC/42/50.\\nA/HRC/42/CRP.5, available at\\nwww.ohchr.org/EN/HRBodies/HRC/RegularSessions/session42/Pages/ListReports.aspx.\\n3 A/HRC/42/CRP.3, available at\\nwww.ohchr.org/EN/HRBodies/HRC/RegularSessions/session42/Pages/ListReports.aspx.\\n4 A/HRC/42/CRP.4, available at\\nwww.ohchr.org/EN/HRBodies/HRC/RegularSessions/session42/Pages/ListReports.aspx.\\n5 See A/73/716, annex.\\n6 A/HRC/42/66.\\n2',\n",
       " 'Noting the important role of regional organizations, and recognizing the efforts of\\nthe Association of Southeast Asian Nations to provide humanitarian assistance in\\nMyanmar, supporting Myanmar in creating an environment that is conducive to the safe,\\nvoluntary and dignified return of displaced persons, and reiterating the need to work in\\nclose coordination and in full consultation with the Rohingya, as well as with all relevant\\nUnited Nations agencies and international partners and to address the root causes of the\\nconflict, so that affected communities can rebuild their lives there,\\nAcknowledging the efforts of the Organization of Islamic Cooperation, alongside\\nrelevant international efforts, aiming to bring peace and stability to Rakhine State,\\nincluding through the appointment by the Organization of a special envoy to Myanmar,\\n1.\\nExpresses grave concern at continuing reports of serious human rights\\nviolations and abuses in Myanmar, including against Rohingya Muslims and other\\nminorities, including of arbitrary arrests, torture and other cruel, inhuman or degrading\\ntreatment or punishment, forced labour, the use of school buildings for military purposes,\\nsocioeconomic exploitation, the forced displacement of more than a million Rohingya\\nMuslims to Bangladesh, and sexual and gender-based violence against women and children,\\nas well as restrictions on exercising the rights to freedom of religion or belief, expression\\nand assembly, in particular in Rakhine, Chin, Kachin and Shan States;\\n2.\\nExpresses serious concern at the recent escalation of violence in Rakhine\\nState causing the loss of lives, displacement and further human suffering, and calls upon all\\nparties to show restraint, to respect their relevant obligations under international human\\nrights law and international humanitarian law, to ensure the safety and protection of\\ncivilians and to show readiness to re-engage in dialogue;\\n3.\\nReiterates the urgent need to ensure that all those responsible for crimes\\nrelating to violations and abuses of international law, including international human rights\\nlaw, international humanitarian law and international criminal law, are held to account\\nthrough credible and independent national, regional or international criminal justice\\nmechanisms, and therefore stresses the need for an urgent criminal investigation into\\nalleged crimes against humanity and war crimes in all affected territories in Myanmar,\\nrecalls the authority of the Security Council, and welcomes ongoing efforts at the\\ninternational level;\\n4.\\nCalls upon Myanmar to end immediately all violence and all violations of\\ninternational law in Myanmar, to ensure the protection of the human rights of all persons in\\nMyanmar, including of Rohingya Muslims and persons belonging to other minorities, and\\nto take all measures necessary to provide justice to victims, to ensure full accountability and\\nto end impunity for all violations of human rights by undertaking a full, transparent and\\nindependent investigation into reports of all violations of international human rights law\\nand international humanitarian law;\\n5.\\nEmphasizes the importance of conducting international, independent, fair and\\ntransparent investigations into the gross human rights violations in Myanmar, including\\nsexual and gender-based violence against women and children, and to hold accountable all\\nthose responsible for brutal acts and crimes against all persons, including the Rohingya, in\\norder to deliver justice to victims using all legal instruments and international judicial\\nmechanisms;\\n6.\\nCalls for the immediate cessation of fighting and hostilities, of the targeting\\nof civilians and of all violations and abuses of international human rights law and\\ninternational humanitarian law, and the implementation of an inclusive and comprehensive\\nnational political dialogue and nationwide reconciliation process while ensuring the full,\\neffective and meaningful participation of all ethnic groups, including Rohingya Muslims\\nand other minorities, women and young people, and persons with disabilities, as well as\\ncivil society, with the objective of achieving lasting peace, and calls upon political and\\nreligious leaders in Myanmar to work for a peaceful resolution through dialogue towards\\nnational unity;\\n7.\\nReiterates the urgent call upon the Government of Myanmar to take the\\nmeasures necessary to promote the inclusion, human rights and dignity of all people living',\n",
       " 'in Myanmar, to address the spread of discrimination and prejudice and to combat\\nincitement to hatred against Rohingya Muslims and other minorities by publicly\\ncondemning such acts and enacting necessary anti-hate speech laws, in accordance with\\ninternational human rights standards, and by promoting interfaith dialogue in cooperation\\nwith the international community, and encourages political and religious leaders in the\\ncountry to work towards national unity through dialogue;\\n8.\\nAlso reiterates the urgent call upon the Government of Myanmar to sustain\\nthe democratic transition of Myanmar, in particular in view of the general elections in 2020\\ncalled by the Government, by bringing all national institutions, including the military, under\\nthe democratically elected civilian Government;\\n9.\\nWelcomes the restoration of Internet and data services in five townships in\\nRakhine and Chin States, but calls upon the Government of Myanmar to lift the shutdown\\nin the remaining four townships in Rakhine State and to repeal article 77 of the\\nTelecommunications Act in order to avoid any further cutting of Internet access and the\\nstifling of the rights to freedom of opinion and expression and information, in accordance\\nwith international human rights law;\\n10.\\nAlso welcomes the adoption by the Government of Myanmar of a new law on\\nchildren’s rights allowing, inter alia, the registration at birth of all children, and the\\nagreement by Parliament to the ratification of the Optional Protocol to the Convention on\\nthe Rights of the Child on the involvement of children in armed conflict, but emphasizes\\nthe need for the Government to further protect the right of all children, including Rohingya\\nchildren, to acquire citizenship in order to eliminate statelessness, in accordance with the\\nobligations of Myanmar under the Convention on the Rights of the Child, and to ensure the\\nprotection of all children in armed conflict;\\n11.\\nUrges the Government of Myanmar to cooperate fully with and to grant full,\\nunrestricted and unmonitored access to all United Nations mandate holders and human\\nrights mechanisms, including the Special Rapporteur, the ongoing independent mechanism\\nestablished by the Human Rights Council in its resolution 39/2, referred to by the\\nSecretary-General as the Independent Investigative Mechanism for Myanmar in his terms\\nof reference for the Mechanism, relevant United Nations agencies and international and\\nregional human rights bodies to independently monitor the situation of human rights, and to\\nensure that individuals can cooperate without hindrance with these mechanisms without\\nfear of reprisal, intimidation or attack, and expresses deep concern that international access\\nto affected areas of Northern Rakhine State remains severely restricted for the international\\ncommunity, including for United Nations agencies, humanitarian actors and international\\nmedia;\\n12.\\nWelcomes the entry into operation on 30 August 2019 of the Mechanism,\\nwith its mandate to collect, consolidate, preserve and analyse evidence of the most serious\\ninternational crimes and violations of international law committed in Myanmar since 2011,\\nand to prepare files in order to facilitate and expedite fair and independent criminal\\nproceedings, in accordance with international law standards, in national, regional or\\ninternational courts or tribunals that have or may in the future have jurisdiction over these\\ncrimes, in accordance with international law, and urges the Mechanism to swiftly advance\\nits work and to ensure the effective use of evidence of the most serious international crimes\\nand violations of international law collected by the independent international fact-finding\\nmission;\\n13.\\nCalls for close cooperation between the Mechanism and any ongoing or\\nfuture investigations pertaining to serious international crimes and violations of\\ninternational law in Myanmar by national, regional or international courts or tribunals;\\n14.\\nCalls upon the United Nations to ensure that the Mechanism is afforded the\\nnecessary support and resources it needs in terms of staffing, location and operational\\nfreedom so it can deliver as effectively as possible on its mandate, and urges Member\\nStates in the region to cooperate with the Mechanism, to grant it access and to provide it\\nwith every assistance in the execution of its mandate;',\n",
       " '15.\\nWelcomes the final report of the independent international fact-finding\\nmission,1 and urges the Government of Myanmar and the international community to give\\ndue consideration to the recommendations contained in the reports of the fact-finding\\nmission;\\n16.\\nReiterates the importance of the full implementation of all recommendations\\nof the Advisory Commission on Rakhine State to address the root causes of the crisis,\\nincluding those on the right to a nationality and equal access to citizenship, freedom of\\nmovement, the elimination of systematic segregation and all forms of discrimination, and\\ninclusive and equal access to health services and education, and birth registration, in full\\nconsultation with all ethnic and religious minorities and persons in vulnerable situations, as\\nwell as civil society;\\n17.\\nCalls upon the Government of Myanmar to make efforts to eliminate\\nstatelessness and the systematic and institutionalized discrimination against members of\\nethnic and religious minorities, in particular relating to the Rohingya Muslims, by, inter\\nalia, reviewing the 1982 Citizenship Law, which has led to the deprivation of human rights;\\nby ensuring everyone’s right to a nationality and equal access to full citizenship through a\\ntransparent, voluntary and accessible procedure and to all civil and political rights by\\nallowing for self-identification; by amending or repealing all discriminatory legislation and\\npolicies, including discriminatory provisions of the set of “protection of race and religion\\nlaws” enacted in 2015 covering religious conversion, interfaith marriage, monogamy and\\npopulation control; and by lifting all local orders restricting rights to freedom of movement\\nand access to civil registration, health and education services and livelihoods;\\n18.\\nUrges the Government of Myanmar to take all measures necessary to reverse\\nand abandon policies, directives and practices that marginalize Rohingya Muslims and\\nother minorities, to prevent the destruction of places of worship, cemeteries, infrastructure\\nand commercial or residential buildings belonging to all peoples, to ensure that all\\ndisplaced persons, including Rohingya Muslims and persons belonging to other minorities,\\nin Rakhine State and throughout Myanmar, including the 128,000 Rohingya and Kaman\\nMuslims who have been confined in camps in central Rakhine since 2012, can return to\\ntheir homes and properties with freedom of movement and unimpeded access to livelihoods\\nand essential services, to review relevant laws, and to address the root causes of their\\nvulnerability and forced displacement;\\n19.\\nWelcomes the recent extension for one year of the memorandum of\\nunderstanding between the Government of Myanmar, the United Nations Development\\nProgramme and the Office of the United Nations High Commissioner for Refugees to\\nassociate them to the implementation of bilateral arrangements with Bangladesh on the\\nreturn of displaced persons from Rakhine State, and emphasizes the need for the\\nGovernment of Myanmar to continue to cooperate fully with the Government of\\nBangladesh and with the United Nations, in particular the Office of the United Nations\\nHigh Commissioner for Refugees, and in consultation with the populations concerned to\\nenable the safe, voluntary, dignified sustainable and well-informed return of all refugees\\nand forcibly displaced persons, including internally displaced persons, to their places of\\norigin in Myanmar, and to give returnees freedom of movement and unimpeded access to\\nlivelihoods, social services, including health services, education and shelter, and to\\ncompensate them for all losses;\\n20.\\nCalls upon the Government of Myanmar, in line with the bilateral\\ninstruments on repatriation signed by Bangladesh and Myanmar, to take concrete steps\\ntowards the creation of a conducive environment for the voluntary safe, dignified and\\nsustainable return of the forcibly displaced Rohingya residing in Bangladesh, and to\\ndisseminate authentic information, in partnership with the United Nations and other\\nrelevant actors, on the conditions in Rakhine State in order to reasonably address the core\\nconcerns of the Rohingya, thereby encouraging them to return to their places of origin;\\n21.\\nExpresses grave concern at the continuing restrictions on humanitarian\\naccess, in particular in Rakhine, Chin, Kachin and Shan States, calls upon the Government\\nof Myanmar to ensure full respect for international humanitarian law and to allow the full,\\nsafe and unhindered access of humanitarian personnel to all government-controlled and',\n",
       " 'non-government-controlled areas, and to provide humanitarian assistance, including ageand gender-responsive assistance, as well as the delivery of supplies and equipment, in\\norder to allow such personnel to perform efficiently their tasks of assisting the affected\\ncivilian populations, including internally displaced persons, and encourages it to grant\\naccess to the diplomatic corps, independent observers and representatives of the national\\nand international independent media, without fear of reprisals;\\n22.\\nEncourages the international community, in the true spirit of interdependence\\nand burden-sharing, to continue to assist Bangladesh in the provision of humanitarian\\nassistance to forcibly displaced Rohingya Muslims and other minorities until their return to\\ntheir places of origin in Myanmar, and to assist Myanmar in the provision of humanitarian\\nassistance to all affected persons of all communities displaced internally in Myanmar,\\nincluding in Rakhine State, taking into account the vulnerable situation of women, children,\\nolder persons and persons with disabilities;\\n23.\\nCalls upon the United Nations and encourages other international agencies to\\nprovide all support necessary for the Governments of Bangladesh and Myanmar to expedite\\nthe safe, voluntary, dignified and sustainable return of forcibly displaced Rohingya\\nMuslims and other minorities from Myanmar, including internally displaced persons,\\nincluding through the early implementation of the memorandum of understanding signed by\\nthe Government of Myanmar, the Office of the United Nations High Commissioner for\\nRefugees and the United Nations Development Programme;\\n24.\\nEncourages all business enterprises, including transnational corporations and\\ndomestic enterprises, to respect human rights in accordance with the Guiding Principles on\\nBusiness and Human Rights, and calls upon the home States of business enterprises\\noperating in Myanmar to set out clearly the expectation that all business enterprises\\ndomiciled in their territory and/or jurisdiction respect human rights throughout their\\noperations;\\n25.\\nRequests the United Nations High Commissioner for Human Rights to follow\\nup on the implementation of the recommendations made by the independent international\\nfact-finding mission, including those on accountability, and to continue to track progress in\\nthe situation of human rights in Myanmar, including of Rohingya Muslims and other\\nminorities, and to present a written report thereon to the Human Rights Council at its fortyfifth session, to be followed by an enhanced interactive dialogue, and to the General\\nAssembly at its seventy-fifth session;\\n26.\\nDecides to transmit the reports of the independent international fact-finding\\nmission on Myanmar to the General Assembly, and recommends that the Assembly\\ntransmit the reports to all relevant United Nations bodies, and requests the Chair of the\\nindependent international fact-finding mission to present the reports to the Assembly at its\\nseventy-fourth session;\\n27.\\nWelcomes the commitment of the Secretary-General to fully implement the\\nrecommendations contained in the report entitled “A brief and independent inquiry into the\\ninvolvement of the United Nations in Myanmar from 2010 to 2018” dated 29 May 2019,\\nand invites the Secretary-General to ensure a system-wide approach in implementing those\\nrecommendations, to ensure that all involvement with Myanmar takes into account and\\naddresses human rights concerns, and also invites him to include an update on the\\nimplementation of the recommendations in his presentation to the Human Rights Council at\\nits forty-third session, in accordance with Council resolution 40/29.']"
      ]
     },
     "execution_count": 36,
     "metadata": {},
     "output_type": "execute_result"
    }
   ],
   "source": [
    "para_list"
   ]
  },
  {
   "cell_type": "code",
   "execution_count": 17,
   "metadata": {},
   "outputs": [
    {
     "name": "stdout",
     "output_type": "stream",
     "text": [
      "\f",
      "\n"
     ]
    }
   ],
   "source": [
    "print(para_list[-1])"
   ]
  },
  {
   "cell_type": "code",
   "execution_count": 16,
   "metadata": {},
   "outputs": [
    {
     "data": {
      "text/plain": [
       "'\\x0c'"
      ]
     },
     "execution_count": 16,
     "metadata": {},
     "output_type": "execute_result"
    }
   ],
   "source": [
    "para_list[-1]"
   ]
  },
  {
   "cell_type": "code",
   "execution_count": 28,
   "metadata": {},
   "outputs": [],
   "source": [
    "string = 'United Nations What is my name'"
   ]
  },
  {
   "cell_type": "code",
   "execution_count": 30,
   "metadata": {},
   "outputs": [],
   "source": [
    "s=string.split()"
   ]
  },
  {
   "cell_type": "code",
   "execution_count": 31,
   "metadata": {},
   "outputs": [
    {
     "data": {
      "text/plain": [
       "['United', 'Nations', 'What', 'is', 'my', 'name']"
      ]
     },
     "execution_count": 31,
     "metadata": {},
     "output_type": "execute_result"
    }
   ],
   "source": [
    "s"
   ]
  },
  {
   "cell_type": "code",
   "execution_count": 32,
   "metadata": {},
   "outputs": [
    {
     "data": {
      "text/plain": [
       "'United Nations What is my name'"
      ]
     },
     "execution_count": 32,
     "metadata": {},
     "output_type": "execute_result"
    }
   ],
   "source": [
    "string "
   ]
  },
  {
   "cell_type": "code",
   "execution_count": 33,
   "metadata": {},
   "outputs": [
    {
     "data": {
      "text/plain": [
       "6"
      ]
     },
     "execution_count": 33,
     "metadata": {},
     "output_type": "execute_result"
    }
   ],
   "source": [
    "len(string.split())"
   ]
  },
  {
   "cell_type": "code",
   "execution_count": null,
   "metadata": {},
   "outputs": [],
   "source": []
  },
  {
   "cell_type": "code",
   "execution_count": null,
   "metadata": {},
   "outputs": [],
   "source": []
  },
  {
   "cell_type": "code",
   "execution_count": 1,
   "metadata": {},
   "outputs": [],
   "source": [
    "import pickle\n",
    "\n",
    "pickle_four_file = \"/Users/xaviertang/Documents/AIAP/MFA_xavier/question_answering/allennlp/data/four_files.pickle\"\n",
    "pickle_two_file = \"/Users/xaviertang/Documents/AIAP/MFA_xavier/question_answering/allennlp/data/two_files.pickle\"\n",
    "\n",
    "with open(pickle_four_file, 'rb') as result_four:\n",
    "    result_four_file = pickle.load(result_four)\n",
    "    \n",
    "with open(pickle_two_file, 'rb') as result_two:\n",
    "    result_two_file = pickle.load(result_two)"
   ]
  },
  {
   "cell_type": "code",
   "execution_count": 2,
   "metadata": {},
   "outputs": [
    {
     "name": "stdout",
     "output_type": "stream",
     "text": [
      "<_io.BytesIO object at 0x1118ba728>\n",
      "<_io.BytesIO object at 0x111926410>\n"
     ]
    }
   ],
   "source": [
    "print(result_four_file)\n",
    "print(result_two_file)"
   ]
  },
  {
   "cell_type": "code",
   "execution_count": 3,
   "metadata": {},
   "outputs": [],
   "source": [
    "from streamlit_zip_reader import read_zip"
   ]
  },
  {
   "cell_type": "code",
   "execution_count": 4,
   "metadata": {},
   "outputs": [],
   "source": [
    "empty_dict = {}"
   ]
  },
  {
   "cell_type": "code",
   "execution_count": 5,
   "metadata": {},
   "outputs": [],
   "source": [
    "result_dict_two = read_zip(result_two_file, empty_dict)"
   ]
  },
  {
   "cell_type": "code",
   "execution_count": 6,
   "metadata": {},
   "outputs": [
    {
     "data": {
      "text/plain": [
       "{'test_files/Australia.docx': ['Sixty-second session of the Committee on the Peaceful Uses of Outer Space (COPUOS)',\n",
       "  'Statement by Dr Brendon Hammer, Ambassador and Permanent Representative of Australia to the United Nations in Vienna',\n",
       "  'As delegations are\\xa0aware the world is witnessing a transformation of the global space economy.',\n",
       "  'Space technology is getting smaller, access to space is becoming cheaper, innovation cycles are becoming shorter.',\n",
       "  'Industry and the private sector, in partnership with government, are playing an increasingly important role in driving societal and economic transformation using spacebased technology.',\n",
       "  'Indeed, space technologies are playing an increasing important role right\\xa0across our economies.',\n",
       "  'The Committee on the Peaceful Uses of Outer Space (COPUOS) and the United Nations space treaties play an indispensable role in ensuring\\xa0the long-term sustainability of outer space, the effective implementation of the international space law framework, and promoting regulatory arrangements that encourage safety, participation and innovation, which\\xa0will be increasingly important as these activities increase.',\n",
       "  'The Australian Government established the Australian Space Agency on 1\\xa0July\\xa02018.',\n",
       "  'Its purpose is to transform and grow a globally respected Australain space industry that lifts our broader economy, and inspires and improves the lives of all Australians.',\n",
       "  'In April 2019, the\\xa0Advancing Space, the Australian Civil Space Strategy\\xa0(2019-2028)\\xa0was released, which sets out a ten-year path to guide the growth of Australia’s space sector.\\xa0',\n",
       "  'The Strategy outlines a staged plan to meet the Australian Government’s goal to diversify the economy, and identifies seven National Civil Space Priorities that build on Australia’s areas of strength and opportunity. These are:',\n",
       "  'Australia will frame its civil space activities around four Strategic Space Pillars.',\n",
       "  'Internationally, we will identify and enable opportunities through international bilateral and multilateral partnerships.',\n",
       "  'Nationally, we will coordinate our activities, focus on market gaps and emerging areas of interest and stimulate commercial investment in space.',\n",
       "  'We will promote a responsible culture by delivering on our civil international obligations and norms, as well as providing a regulatory framework that enables entrepreneurship while ensuring safety, and managing risk.',\n",
       "  'And we\\xa0will inspire the future Australian\\xa0workforce by encouraging STEM education and skills development, while seeking to lift\\xa0diversity and gender equality in the space\\xa0sector.',\n",
       "  'The Australian Government recently announced a $19.5 million\\xa0Space Infrastructure Fund\\xa0 to help deliver on this Strategy and support projects that will accelerate the growth of Australia’s space industry. Examples of projects include a Mission Control Centre to support businesses and researchers to control small satellites, space payload qualification facilities to enable Australian businesses to build space objects in Australia, and facilities to support the use of Robotics and automation in space.',\n",
       "  'The Australian Government will also implement a $15 million\\xa0International Space Investment Initiative\\xa0in 2020-21 to support Australia to engage with international space agencies.',\n",
       "  'This will complement recent investment to support a Cooperative Research Centre for Smart Satellite Technologies and Analytics.',\n",
       "  'The Australian Government -\\xa0in partnership with industry and research, has committed $245 million to deliver smart satellite systems that will deliver real-time connectivity, surveillance and sensing capability, and the power to drive industry innovation and growth of the internet of things.\\xa0',\n",
       "  'Collectively these investments highlight the priority that the Australian Government is placing on civil space, and that the space economy will be an important part of Australia’s future.',\n",
       "  'The Australian Government has been working to amend our domestic legislation – through the\\xa0Space Activities Amendment (Launches and Returns) Act 2018\\xa0to ensure an appropriate balance between the removal of barriers to participation, encouraging innovation, and the safety of space activities.',\n",
       "  'Our\\xa0amended legislative framework includes a requirement for a space debris mitigation strategy guided by internationally agreed debris mitigation strategies, and supports our commitment to implementing the Guidelines on the Long-term Sustainability of Outer Space Activities.',\n",
       "  'We plan to implement our amended legislative\\xa0framework either on or before 31 August 2019.',\n",
       "  'Australia is committed to our international obligations consistent with the UN Space treaties and to being a productive Member State of COPUOS.',\n",
       "  'We are fully committed to the work of the Committee in developing the Space2030 Agenda and implementation plan and note its importance in presenting a united vision for the future.\\xa0',\n",
       "  'In undertaking this work, we support recognising and promoting the fundamental nature of space-technologies and applications, and space-derived data to further economic growth, sustainable development, and ongoing prosperity.',\n",
       "  'We support communicating the benefits of space-technologies and applications, and space-derived data to other United Nations bodies and other multilateral forums, and identifying opportunities for partnering between bodies, states, industry, research and the community.',\n",
       "  'And we support enabling space activities, consistent with international law, by promoting a governance framework that encourages safety, participation and innovation.',\n",
       "  'Australia welcomes further consultation on the revised zero-draft and remain committed to this process, and my delegation remains flexible and open as we continue negotiations on this important document.',\n",
       "  'As space becomes more congested, contested and competitive, it is important for all Member States to consider ways and means for ensuring the long-term sustainability of outer space through COPUOS.',\n",
       "  'Australia is working hard to ensure we meet our international obligations, and continue to engage productively with COPUOS and its other Member States.'],\n",
       " 'test_files/EU.pdf': ['Statement on behalf of the European Union and its Member States\\non the occasion of the 62d session of the\\nUnited Nations Committee on the Peaceful Uses of Outer Space (COPUOS)\\nVienna, 12 – 21 June 2019',\n",
       "  'Thank you, Chair,\\nI have the honour to speak on behalf of the European Union and its Member States. The following\\ncountries align themselves with this statement: Turkey§, The Republic of North Macedonia\\uf02a,\\nMontenegro*, Iceland+, Serbia*, Albania*, Bosnia and Herzegovina*, Norway+, Ukraine, The\\nRepublic of Moldova and Armenia.\\nChair, allow me first to congratulate you on your election to this important post, and to thank\\nDirector Di Pippo and the Office for Outer Space Affairs, for the excellent preparation of this\\nsession.\\nChair, the EU, its Member States and the European Space Agency together have developed strong\\nand unique space capacities and industry in Europe. The EU has a large budget for space, most of\\nwhich is dedicated to the European Global Navigation Satellite systems, Galileo and EGNOS, and\\nthe European earth-observation system, Copernicus. Also space research and innovation are\\ncurrently supported by the EU Horizon 2020 programme, which will support the competitiveness\\nof the European space sector and help tackle societal challenges, and is open to international\\ncooperation. An important reason for this investment effort is that we believe that space science,\\napplications and technologies have a great potential to help to tackle major global challenges such\\nas climate change, disaster management, food security, environmental protection, efficient\\nmanagement of resources, transport development, marine protection and maritime awareness,\\nmigration and protection of cultural heritage.\\nIn this respect, we are looking forward to continue our work on the 2030 Space Agenda and its\\nimplementation plan with a view to enhancing global space governance and mobilising space for\\nthe realisation of the 2030 Agenda and its Sustainable Development Goals and targets, the Paris\\nAgreement as well as the Sendai Framework for Disaster Risk Reduction. We see the need for\\nenhanced capacity-building activities in this regard.\\nChair, the EU space flagship programmes Galileo/EGNOS and Copernicus have made impressive\\nprogress during the last years. They are an illustration of pan-European and international\\ncooperation because they are funded and owned by the EU and overseen by the European\\nCommission, whereas deployment, design, and further development of the systems and\\ninfrastructure are entrusted to the European Space Agency to which also non-European countries',\n",
       "  'Candidate Country\\nCandidate Countries The Republic of North Macedonia, Montenegro, Serbia and Albania as well as potential Candidate Country\\nBosnia and Herzegovina continue to be part of the Stabilisation and Association Process.\\n+\\nIceland and Norway are members of the EFTA and of the European Economic Area.\\n\\uf02a',\n",
       "  '\\x0care associated. Moreover, these programmes are under civilian control and their data can be used\\nworldwide and free of charge for a broad range of applications.\\nChair, Galileo is autonomous but also interoperable with existing satellite navigation systems.\\nFour more Galileo satellites have been launched in July last year, bringing the constellation to 26\\nsatellites, and the completed constellation will include 30 satellites. When Galileo is fully\\noperational in 2020, it will allow improved services and provide new business opportunities in a\\nwide variety of applications in many sectors of the economy worldwide.\\nToday, around 7% of the EU economy is dependent on global navigation satellite signals. This\\nincludes transport, logistics, telecommunications and energy sectors. The EU wishes to strengthen\\nthe competitiveness of its industry and considers space as a source of industrial excellence and\\ntechnological development with several potential spill-over effects into other sectors. Independent\\nstudies show that Galileo will deliver around EUR 90 billion to the EU economy over the first 20\\nyears of operations. This includes direct revenues for the space and applications industries, and\\nindirect benefits for society such as more effective transport systems or more effective rescue\\noperations.\\nCopernicus is a user-driven European Earth observation and monitoring programme. In 2018,\\nwhich unfortunately saw natural disasters in many countries, Copernicus has again shown its\\nexceptional usefulness by providing accurate maps that allow for a rapid assessment of the\\ndamage and planning of rescue operations.\\nChair, the EU is strengthening its strategic autonomy and increasing global cooperation on space,\\nin particular through Galileo and Copernicus and our space programmes also contribute to our\\nforeign policy, helping us take better informed and swifter decisions.\\nChair, the EU supports the continuous discussions of guidelines, space norms and regulations at\\nthe United Nations. We reiterate that the United Nations Charter, UN Treaties on outer space and\\nfive UNGA sets of principles, as well as other related documents and resolutions adopted by the\\nUNGA, constitute the cornerstone of international space law. As a responsible space actor, the EU\\nis exploring the possibility for its accession to the relevant UN Treaties on Outer Space.\\nWe also reiterate that UNOOSA, COPUOS and its Subcommittees are unique international\\nplatforms for international cooperation in space, including on the development of international\\nnorms and standards regulating space activities. We think that COPUOS as a multilateral forum is\\nessential for developing norms for enhancing the safety and sustainability of activities in outer\\nspace. In this respect:\\n\\uf0b7 We welcome the agreement on 21 guidelines for Long Term Sustainability of Outer Space\\nActivities by the Working Group on the Long Term Sustainability of Outer Space. We\\nencourage all members to report on their national implementation.\\n\\uf0b7 We also support a continued dialogue in COPUOS to better understand the concept of\\nSpace Traffic Management as well as the related guidelines, practices, standards or norms\\nof behaviour, in particular for the safe and sustainable use of outer space.\\n\\uf0b7 We equally support the development of an international framework for the exploration,\\nexploitation and utilisation of space resources within COPUOS.\\n\\uf0b7 We acknowledge, in particular, the Space Debris Mitigation Guidelines of the COPUOS as\\nthe pertinent international standard of conduct in this field in ensuring the safety and\\nsustainability of space activities. New technologies of Space Surveillance and Tracking\\ncould play an important role in ensuring the sustainable use of space.',\n",
       "  '\\x0cChair, we underline the need to foster increased international cooperation, and to establish\\nprinciples of responsible behaviour, and sustainability of space activities. Furthermore, we stress\\nthe need to strengthen commitments to avoid potentially harmful interference with the peaceful\\nexploration and use of outer space, to facilitate equitable access to outer space, and to increase\\ntransparency of outer space activities.\\nThis would contribute to responsible behaviour and constitute a transparency and confidence\\nbuilding measure in outer space by creating, for example, procedures for notification of\\noperations, such as scheduled manoeuvres, that could pose a risk to life or property on the ground\\nor to the safety of flight of the space objects of other States.\\nWe also support a political commitment not to undertake activities detrimental to the safety,\\nsecurity and sustainability of outer-space activities, such as intentional destructions of space\\nobjects that would generate long lived debris.\\nAgainst this background, we underline the achievements on the Long Term Sustainability\\nGuidelines as well as the importance of continuing an appropriate process within COPUOS\\nregarding the safe and sustainable use of outer space.\\nFinally Chair, we believe that there would be value in agreeing a non-legally binding instrument,\\npotentially to be negotiated within the framework of the UN, as a way to deliver these objectives.\\nThis instrument would take care not to duplicate the work by COPUOS as the UN’s mandated\\nnorm creating body for the peaceful use of outer space and to respect its role in the further\\ndevelopment of the legal regime governing space activities. Such a voluntary instrument would\\nbuild upon the COPUOS achievements on the Long Term Sustainability Guidelines and would be\\ncomplementary to these Guidelines.\\nThank you Chair\\n__________________________']}"
      ]
     },
     "execution_count": 6,
     "metadata": {},
     "output_type": "execute_result"
    }
   ],
   "source": [
    "result_dict_two"
   ]
  },
  {
   "cell_type": "code",
   "execution_count": 7,
   "metadata": {},
   "outputs": [
    {
     "data": {
      "text/plain": [
       "dict_keys(['test_files/Australia.docx', 'test_files/EU.pdf'])"
      ]
     },
     "execution_count": 7,
     "metadata": {},
     "output_type": "execute_result"
    }
   ],
   "source": [
    "result_dict_two.keys()"
   ]
  },
  {
   "cell_type": "code",
   "execution_count": 8,
   "metadata": {},
   "outputs": [],
   "source": [
    "empty_dict = {}"
   ]
  },
  {
   "cell_type": "code",
   "execution_count": 9,
   "metadata": {},
   "outputs": [],
   "source": [
    "result_dict_four = read_zip(result_four_file, empty_dict)"
   ]
  },
  {
   "cell_type": "code",
   "execution_count": 10,
   "metadata": {},
   "outputs": [
    {
     "data": {
      "text/plain": [
       "dict_keys([\"test_files/Director's Statement.docx\", 'test_files/Australia.docx', 'test_files/EU.pdf', 'test_files/Japan.pdf'])"
      ]
     },
     "execution_count": 10,
     "metadata": {},
     "output_type": "execute_result"
    }
   ],
   "source": [
    "result_dict_four.keys()"
   ]
  },
  {
   "cell_type": "code",
   "execution_count": 11,
   "metadata": {},
   "outputs": [
    {
     "data": {
      "text/plain": [
       "dict_keys([\"test_files/Director's Statement.docx\", 'test_files/Australia.docx', 'test_files/EU.pdf', 'test_files/Japan.pdf'])"
      ]
     },
     "execution_count": 11,
     "metadata": {},
     "output_type": "execute_result"
    }
   ],
   "source": [
    "result_dict_four.keys()"
   ]
  },
  {
   "cell_type": "code",
   "execution_count": 12,
   "metadata": {},
   "outputs": [
    {
     "data": {
      "text/plain": [
       "dict_keys(['test_files/Australia.docx', 'test_files/EU.pdf'])"
      ]
     },
     "execution_count": 12,
     "metadata": {},
     "output_type": "execute_result"
    }
   ],
   "source": [
    "result_dict_two.keys()"
   ]
  },
  {
   "cell_type": "code",
   "execution_count": null,
   "metadata": {},
   "outputs": [],
   "source": []
  },
  {
   "cell_type": "code",
   "execution_count": 21,
   "metadata": {},
   "outputs": [],
   "source": [
    "result_dict_total = read_zip(result_two_file, result_dict_four)"
   ]
  },
  {
   "cell_type": "code",
   "execution_count": 22,
   "metadata": {},
   "outputs": [
    {
     "data": {
      "text/plain": [
       "dict_keys([\"test_files/Director's Statement.docx\", 'test_files/Australia.docx', 'test_files/EU.pdf', 'test_files/Japan.pdf'])"
      ]
     },
     "execution_count": 22,
     "metadata": {},
     "output_type": "execute_result"
    }
   ],
   "source": [
    "result_dict_total.keys()"
   ]
  },
  {
   "cell_type": "code",
   "execution_count": 1,
   "metadata": {},
   "outputs": [],
   "source": [
    "import nltk"
   ]
  },
  {
   "cell_type": "code",
   "execution_count": 2,
   "metadata": {},
   "outputs": [
    {
     "name": "stdout",
     "output_type": "stream",
     "text": [
      "showing info https://raw.githubusercontent.com/nltk/nltk_data/gh-pages/index.xml\n"
     ]
    },
    {
     "data": {
      "text/plain": [
       "True"
      ]
     },
     "execution_count": 2,
     "metadata": {},
     "output_type": "execute_result"
    }
   ],
   "source": [
    "nltk.download()"
   ]
  },
  {
   "cell_type": "code",
   "execution_count": null,
   "metadata": {},
   "outputs": [],
   "source": []
  },
  {
   "cell_type": "code",
   "execution_count": null,
   "metadata": {},
   "outputs": [],
   "source": []
  },
  {
   "cell_type": "code",
   "execution_count": null,
   "metadata": {},
   "outputs": [],
   "source": []
  }
 ],
 "metadata": {
  "kernelspec": {
   "display_name": "Python (mfa_text)",
   "language": "python",
   "name": "mfa_text"
  },
  "language_info": {
   "codemirror_mode": {
    "name": "ipython",
    "version": 3
   },
   "file_extension": ".py",
   "mimetype": "text/x-python",
   "name": "python",
   "nbconvert_exporter": "python",
   "pygments_lexer": "ipython3",
   "version": "3.6.8"
  }
 },
 "nbformat": 4,
 "nbformat_minor": 4
}
